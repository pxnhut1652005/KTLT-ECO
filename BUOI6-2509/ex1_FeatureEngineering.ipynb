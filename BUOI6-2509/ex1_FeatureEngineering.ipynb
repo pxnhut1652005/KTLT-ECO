{
 "cells": [
  {
   "cell_type": "markdown",
   "id": "fd6a0ed5-8550-481e-9aeb-057c2ea27c8a",
   "metadata": {},
   "source": [
    "# Tutorial 7a: Feature Construction"
   ]
  },
  {
   "cell_type": "markdown",
   "id": "d24479b2-056a-437c-9303-5d4407ebe793",
   "metadata": {},
   "source": [
    "These tasks are done using transformers.\n",
    "\n",
    "sklearn's \"transformer\" is used for this, the main methods being:\n",
    "\n",
    "- transformer.fit()\n",
    "- transformer.transform()\n",
    "- transformer.fit_transform()\n",
    "\n",
    "Note that the analysis and fitting (training) is based only on the train dataset. After that, the learned transformations are applied to the test data.\n"
   ]
  },
  {
   "cell_type": "code",
   "execution_count": 1,
   "id": "a7cc5289-c5ec-44b6-987e-6c820dd738f4",
   "metadata": {},
   "outputs": [],
   "source": [
    "import pandas as pd\n",
    "import matplotlib.pyplot as plt\n",
    "import seaborn as sns\n",
    "import numpy as np"
   ]
  },
  {
   "cell_type": "markdown",
   "id": "ded1dc4d-8727-4a06-9e4f-fbf6488cf3d1",
   "metadata": {},
   "source": [
    "# Load the dataset"
   ]
  },
  {
   "cell_type": "code",
   "execution_count": 2,
   "id": "f519ccdb-a4d1-492b-99fb-d5cd49114784",
   "metadata": {},
   "outputs": [
    {
     "data": {
      "text/html": [
       "<div>\n",
       "<style scoped>\n",
       "    .dataframe tbody tr th:only-of-type {\n",
       "        vertical-align: middle;\n",
       "    }\n",
       "\n",
       "    .dataframe tbody tr th {\n",
       "        vertical-align: top;\n",
       "    }\n",
       "\n",
       "    .dataframe thead th {\n",
       "        text-align: right;\n",
       "    }\n",
       "</style>\n",
       "<table border=\"1\" class=\"dataframe\">\n",
       "  <thead>\n",
       "    <tr style=\"text-align: right;\">\n",
       "      <th></th>\n",
       "      <th>sepal_length</th>\n",
       "      <th>sepal_width</th>\n",
       "      <th>petal_length</th>\n",
       "      <th>petal_width</th>\n",
       "      <th>species</th>\n",
       "    </tr>\n",
       "  </thead>\n",
       "  <tbody>\n",
       "    <tr>\n",
       "      <th>0</th>\n",
       "      <td>5.1</td>\n",
       "      <td>3.5</td>\n",
       "      <td>1.4</td>\n",
       "      <td>0.2</td>\n",
       "      <td>setosa</td>\n",
       "    </tr>\n",
       "    <tr>\n",
       "      <th>1</th>\n",
       "      <td>4.9</td>\n",
       "      <td>3.0</td>\n",
       "      <td>1.4</td>\n",
       "      <td>0.2</td>\n",
       "      <td>setosa</td>\n",
       "    </tr>\n",
       "    <tr>\n",
       "      <th>2</th>\n",
       "      <td>4.7</td>\n",
       "      <td>3.2</td>\n",
       "      <td>1.3</td>\n",
       "      <td>0.2</td>\n",
       "      <td>setosa</td>\n",
       "    </tr>\n",
       "    <tr>\n",
       "      <th>3</th>\n",
       "      <td>4.6</td>\n",
       "      <td>3.1</td>\n",
       "      <td>1.5</td>\n",
       "      <td>0.2</td>\n",
       "      <td>setosa</td>\n",
       "    </tr>\n",
       "    <tr>\n",
       "      <th>4</th>\n",
       "      <td>5.0</td>\n",
       "      <td>3.6</td>\n",
       "      <td>1.4</td>\n",
       "      <td>0.2</td>\n",
       "      <td>setosa</td>\n",
       "    </tr>\n",
       "  </tbody>\n",
       "</table>\n",
       "</div>"
      ],
      "text/plain": [
       "   sepal_length  sepal_width  petal_length  petal_width species\n",
       "0           5.1          3.5           1.4          0.2  setosa\n",
       "1           4.9          3.0           1.4          0.2  setosa\n",
       "2           4.7          3.2           1.3          0.2  setosa\n",
       "3           4.6          3.1           1.5          0.2  setosa\n",
       "4           5.0          3.6           1.4          0.2  setosa"
      ]
     },
     "execution_count": 2,
     "metadata": {},
     "output_type": "execute_result"
    }
   ],
   "source": [
    "df=sns.load_dataset('iris')\n",
    "df.head()"
   ]
  },
  {
   "cell_type": "code",
   "execution_count": 3,
   "id": "e92fed6e-a746-4a47-ba6c-ae1e0faa5065",
   "metadata": {},
   "outputs": [],
   "source": [
    "# Seperate the target variable\n",
    "X=df[df.columns[1:-1]]   # read \"-1\" as \"the last one\"\n",
    "y=df[df.columns[-1]]"
   ]
  },
  {
   "cell_type": "code",
   "execution_count": 4,
   "id": "d05f8a48-2dc4-4a22-a3f2-7cb964da3de0",
   "metadata": {},
   "outputs": [
    {
     "data": {
      "text/plain": [
       "(     sepal_width  petal_length  petal_width\n",
       " 0            3.5           1.4          0.2\n",
       " 1            3.0           1.4          0.2\n",
       " 2            3.2           1.3          0.2\n",
       " 3            3.1           1.5          0.2\n",
       " 4            3.6           1.4          0.2\n",
       " ..           ...           ...          ...\n",
       " 145          3.0           5.2          2.3\n",
       " 146          2.5           5.0          1.9\n",
       " 147          3.0           5.2          2.0\n",
       " 148          3.4           5.4          2.3\n",
       " 149          3.0           5.1          1.8\n",
       " \n",
       " [150 rows x 3 columns],\n",
       " 0         setosa\n",
       " 1         setosa\n",
       " 2         setosa\n",
       " 3         setosa\n",
       " 4         setosa\n",
       "          ...    \n",
       " 145    virginica\n",
       " 146    virginica\n",
       " 147    virginica\n",
       " 148    virginica\n",
       " 149    virginica\n",
       " Name: species, Length: 150, dtype: object)"
      ]
     },
     "execution_count": 4,
     "metadata": {},
     "output_type": "execute_result"
    }
   ],
   "source": [
    "\n",
    "X, y"
   ]
  },
  {
   "cell_type": "code",
   "execution_count": 5,
   "id": "cd3e80f4-3714-417c-b191-477bf8053629",
   "metadata": {},
   "outputs": [
    {
     "data": {
      "text/plain": [
       "species\n",
       "setosa        50\n",
       "versicolor    50\n",
       "virginica     50\n",
       "Name: count, dtype: int64"
      ]
     },
     "execution_count": 5,
     "metadata": {},
     "output_type": "execute_result"
    }
   ],
   "source": [
    "# Show the number of instances per class\n",
    "y.value_counts()"
   ]
  },
  {
   "cell_type": "code",
   "execution_count": 6,
   "id": "73850181-5d73-4998-b53a-62125e9a7837",
   "metadata": {},
   "outputs": [],
   "source": [
    "# split the data\n",
    "from sklearn.model_selection import train_test_split\n",
    "X_train, X_test, y_train, y_test = train_test_split(X, y, test_size=0.3, random_state=42, stratify=y)"
   ]
  },
  {
   "cell_type": "code",
   "execution_count": 7,
   "id": "21422aaa-69a7-43fe-bac1-8ee37531cc36",
   "metadata": {},
   "outputs": [
    {
     "data": {
      "text/html": [
       "<div>\n",
       "<style scoped>\n",
       "    .dataframe tbody tr th:only-of-type {\n",
       "        vertical-align: middle;\n",
       "    }\n",
       "\n",
       "    .dataframe tbody tr th {\n",
       "        vertical-align: top;\n",
       "    }\n",
       "\n",
       "    .dataframe thead th {\n",
       "        text-align: right;\n",
       "    }\n",
       "</style>\n",
       "<table border=\"1\" class=\"dataframe\">\n",
       "  <thead>\n",
       "    <tr style=\"text-align: right;\">\n",
       "      <th></th>\n",
       "      <th>sepal_width</th>\n",
       "      <th>petal_length</th>\n",
       "      <th>petal_width</th>\n",
       "    </tr>\n",
       "  </thead>\n",
       "  <tbody>\n",
       "    <tr>\n",
       "      <th>98</th>\n",
       "      <td>2.5</td>\n",
       "      <td>3.0</td>\n",
       "      <td>1.1</td>\n",
       "    </tr>\n",
       "    <tr>\n",
       "      <th>68</th>\n",
       "      <td>2.2</td>\n",
       "      <td>4.5</td>\n",
       "      <td>1.5</td>\n",
       "    </tr>\n",
       "    <tr>\n",
       "      <th>19</th>\n",
       "      <td>3.8</td>\n",
       "      <td>1.5</td>\n",
       "      <td>0.3</td>\n",
       "    </tr>\n",
       "    <tr>\n",
       "      <th>143</th>\n",
       "      <td>3.2</td>\n",
       "      <td>5.9</td>\n",
       "      <td>2.3</td>\n",
       "    </tr>\n",
       "    <tr>\n",
       "      <th>99</th>\n",
       "      <td>2.8</td>\n",
       "      <td>4.1</td>\n",
       "      <td>1.3</td>\n",
       "    </tr>\n",
       "  </tbody>\n",
       "</table>\n",
       "</div>"
      ],
      "text/plain": [
       "     sepal_width  petal_length  petal_width\n",
       "98           2.5           3.0          1.1\n",
       "68           2.2           4.5          1.5\n",
       "19           3.8           1.5          0.3\n",
       "143          3.2           5.9          2.3\n",
       "99           2.8           4.1          1.3"
      ]
     },
     "execution_count": 7,
     "metadata": {},
     "output_type": "execute_result"
    }
   ],
   "source": [
    "\n",
    "#Check before standardization\n",
    "X_train.head()"
   ]
  },
  {
   "cell_type": "markdown",
   "id": "35a5f3b4-3531-49cf-8d96-6bc428eb8fa1",
   "metadata": {},
   "source": [
    "# PCA"
   ]
  },
  {
   "cell_type": "markdown",
   "id": "bd2e6dcc-a79d-48dd-bc26-59c4c9eaa4b6",
   "metadata": {},
   "source": [
    "PCA is affected by scale: you should give each of the features in your data a similar scale (mean = 0 and variance = 1) before applying PCA. We will use StandardScaler to standardize our dataset’s features."
   ]
  },
  {
   "cell_type": "code",
   "execution_count": 8,
   "id": "47ea11aa-94d8-4891-9ce0-43cca3f93b49",
   "metadata": {
    "scrolled": true
   },
   "outputs": [
    {
     "data": {
      "text/plain": [
       "array([[-1.22024754, -0.4419858 , -0.13661044],\n",
       "       [-1.87955796,  0.40282929,  0.38029394],\n",
       "       [ 1.63676428, -1.2868009 , -1.17041921],\n",
       "       [ 0.31814344,  1.19132338,  1.41410271],\n",
       "       [-0.56093712,  0.17754527,  0.12184175],\n",
       "       [-0.12139684,  0.79707634,  1.41410271],\n",
       "       [ 0.0983733 , -1.2868009 , -1.4288714 ],\n",
       "       [ 1.63676428, -1.23047989, -1.29964531],\n",
       "       [-0.34116698, -1.3431219 , -1.29964531],\n",
       "       [-0.12139684,  1.19132338,  1.15565051],\n",
       "       [ 0.31814344,  0.74075533,  1.02642442],\n",
       "       [-0.12139684, -1.3431219 , -1.29964531],\n",
       "       [-0.12139684, -1.23047989, -1.29964531],\n",
       "       [-0.34116698,  0.40282929,  0.38029394],\n",
       "       [-1.44001768,  0.00858225, -0.13661044],\n",
       "       [ 0.31814344,  1.24764439,  0.76797223],\n",
       "       [ 0.75768372, -1.23047989, -1.04119311],\n",
       "       [ 0.31814344, -1.23047989, -1.29964531],\n",
       "       [ 0.53791358,  1.07868137,  1.6725549 ],\n",
       "       [ 0.31814344,  0.57179231,  0.76797223],\n",
       "       [ 0.75768372, -1.2868009 , -1.04119311],\n",
       "       [-0.78070726,  0.62811332,  0.76797223],\n",
       "       [-0.12139684,  1.58557043,  1.15565051],\n",
       "       [-0.56093712,  1.64189143,  1.02642442],\n",
       "       [-0.12139684,  0.23386627, -0.00738435],\n",
       "       [ 0.75768372, -1.3431219 , -1.17041921],\n",
       "       [ 1.41699414, -1.2868009 , -1.04119311],\n",
       "       [ 1.85653442, -1.39944291, -1.04119311],\n",
       "       [ 0.0983733 ,  0.62811332,  0.38029394],\n",
       "       [-1.22024754,  0.12122426,  0.12184175],\n",
       "       [ 2.95538512, -1.2868009 , -1.04119311],\n",
       "       [ 0.97745386, -1.3431219 , -1.17041921],\n",
       "       [-0.78070726,  0.17754527, -0.26583654],\n",
       "       [-0.34116698, -0.10405976,  0.12184175],\n",
       "       [-0.12139684, -1.3431219 , -1.4288714 ],\n",
       "       [-0.12139684, -1.3431219 , -1.17041921],\n",
       "       [ 0.0983733 ,  0.34650829,  0.25106784],\n",
       "       [-1.22024754,  0.68443432,  0.89719832],\n",
       "       [ 1.63676428,  1.47292841,  1.02642442],\n",
       "       [ 0.97745386, -1.3431219 , -1.29964531],\n",
       "       [-0.56093712,  1.02236036,  1.15565051],\n",
       "       [ 0.31814344, -1.3431219 , -1.29964531],\n",
       "       [-1.87955796,  0.68443432,  0.38029394],\n",
       "       [ 0.97745386, -1.39944291, -1.29964531],\n",
       "       [ 0.53791358,  1.24764439,  1.6725549 ],\n",
       "       [-1.87955796,  0.12122426, -0.26583654],\n",
       "       [ 0.75768372, -1.06151687, -1.29964531],\n",
       "       [-0.12139684,  1.30396539,  1.41410271],\n",
       "       [-0.56093712,  0.12122426,  0.12184175],\n",
       "       [-1.22024754,  0.68443432,  1.02642442],\n",
       "       [-0.78070726,  0.06490325, -0.00738435],\n",
       "       [-1.65978782, -1.39944291, -1.17041921],\n",
       "       [-1.44001768, -0.04773876, -0.26583654],\n",
       "       [ 0.0983733 ,  0.96603936,  0.76797223],\n",
       "       [-0.12139684,  0.4591503 ,  0.25106784],\n",
       "       [-0.34116698,  1.02236036,  0.76797223],\n",
       "       [ 0.75768372, -1.2868009 , -1.29964531],\n",
       "       [-0.34116698,  0.23386627,  0.12184175],\n",
       "       [ 1.197224  , -1.3431219 , -1.29964531],\n",
       "       [ 0.0983733 ,  0.51547131,  0.38029394],\n",
       "       [-0.56093712,  0.57179231,  0.25106784],\n",
       "       [-0.78070726,  0.06490325,  0.25106784],\n",
       "       [ 1.197224  ,  1.30396539,  1.6725549 ],\n",
       "       [-0.78070726,  0.74075533,  0.50952003],\n",
       "       [-0.34116698,  0.29018728,  0.12184175],\n",
       "       [ 0.75768372,  1.02236036,  1.5433288 ],\n",
       "       [-0.56093712,  0.62811332,  1.02642442],\n",
       "       [ 0.0983733 , -1.2868009 , -1.29964531],\n",
       "       [ 0.31814344,  1.07868137,  1.41410271],\n",
       "       [-0.56093712,  0.4591503 ,  0.38029394],\n",
       "       [-0.12139684,  0.17754527,  0.12184175],\n",
       "       [-1.0004774 ,  1.75453345,  1.41410271],\n",
       "       [ 2.2960747 , -1.2868009 , -1.4288714 ],\n",
       "       [ 0.31814344,  0.85339734,  1.41410271],\n",
       "       [-0.12139684,  0.74075533,  0.76797223],\n",
       "       [-1.65978782,  0.34650829,  0.12184175],\n",
       "       [ 0.0983733 , -1.23047989, -1.29964531],\n",
       "       [ 1.63676428,  1.64189143,  1.28487661],\n",
       "       [-0.12139684,  0.96603936,  1.15565051],\n",
       "       [ 1.63676428, -1.06151687, -1.04119311],\n",
       "       [-0.12139684, -1.51208492, -1.4288714 ],\n",
       "       [-0.56093712,  0.57179231,  0.76797223],\n",
       "       [-0.12139684,  1.13500238,  0.50952003],\n",
       "       [-0.56093712,  0.74075533,  1.5433288 ],\n",
       "       [ 1.85653442, -1.17415888, -1.04119311],\n",
       "       [-0.78070726,  0.74075533,  0.89719832],\n",
       "       [-2.31909824, -0.16038077, -0.26583654],\n",
       "       [ 0.53791358,  1.07868137,  1.15565051],\n",
       "       [-0.56093712,  1.30396539,  0.89719832],\n",
       "       [ 1.41699414, -1.2868009 , -1.29964531],\n",
       "       [-0.56093712,  0.51547131, -0.00738435],\n",
       "       [-1.0004774 ,  0.34650829, -0.00738435],\n",
       "       [ 0.31814344,  0.51547131,  0.25106784],\n",
       "       [-1.22024754,  0.62811332,  0.38029394],\n",
       "       [-0.12139684,  0.23386627,  0.38029394],\n",
       "       [ 0.97745386, -1.2868009 , -1.29964531],\n",
       "       [ 0.0983733 ,  0.90971835,  1.15565051],\n",
       "       [-1.0004774 ,  0.12122426, -0.00738435],\n",
       "       [-0.78070726,  0.74075533,  0.89719832],\n",
       "       [ 0.75768372, -1.23047989, -1.29964531],\n",
       "       [ 1.197224  , -1.3431219 , -1.4288714 ],\n",
       "       [-1.0004774 , -0.16038077, -0.26583654],\n",
       "       [ 2.51584484, -1.3431219 , -1.29964531],\n",
       "       [-0.78070726,  0.23386627,  0.12184175],\n",
       "       [ 0.0983733 , -1.2868009 , -1.29964531]])"
      ]
     },
     "execution_count": 8,
     "metadata": {},
     "output_type": "execute_result"
    }
   ],
   "source": [
    "#Now lets apply 1-1 \"StandardScaler\" transformer\n",
    "#1) import the module\n",
    "from sklearn.preprocessing import StandardScaler\n",
    "\n",
    "#2) define the model\n",
    "scaler=StandardScaler()\n",
    "\n",
    "#3) fit the model\n",
    "scaler.fit(X_train)\n",
    "\n",
    "#4) transform the data\n",
    "X_train_ss = scaler.transform(X_train)\n",
    "\n",
    "# note 3 and 4 could be combined like this:\n",
    "# X_train_ss = SS.fit_transform(X_train)\n",
    "\n",
    "X_train_ss"
   ]
  },
  {
   "cell_type": "markdown",
   "id": "5b518cd6-846f-4ea4-b31b-ac8e53203e54",
   "metadata": {},
   "source": [
    "## RUN PCA"
   ]
  },
  {
   "cell_type": "code",
   "execution_count": 9,
   "id": "ed68401c-7c02-4006-be43-6c2e005ab424",
   "metadata": {},
   "outputs": [
    {
     "data": {
      "text/plain": [
       "array([[ 0.09953905, -1.27195338],\n",
       "       [ 1.24517682, -1.511778  ],\n",
       "       [-2.23995982,  0.82850939],\n",
       "       [ 1.56980436,  1.02026044],\n",
       "       [ 0.41457825, -0.43457392],\n",
       "       [ 1.48337778,  0.51976305],\n",
       "       [-1.80491446, -0.66531921],\n",
       "       [-2.2865126 ,  0.80241998],\n",
       "       [-1.58636569, -1.04325442],\n",
       "       [ 1.57485976,  0.53649337]])"
      ]
     },
     "execution_count": 9,
     "metadata": {},
     "output_type": "execute_result"
    }
   ],
   "source": [
    "#Now lets perfrom pca\n",
    "#Steps are similar to the scale transformer\n",
    "#1) import the module\n",
    "from sklearn.decomposition import PCA\n",
    "#2) define the model\n",
    "pca = PCA(n_components=2)   # n_components means the pca transformation constructs this many features\n",
    "#3) fit the model\n",
    "pca.fit(X_train_ss)\n",
    "#4) transform the data\n",
    "pca_train = pca.transform(X_train_ss)\n",
    "# 3 and 4 could be combined\n",
    "# pca_train = pca.fit_transform(X_train_ss)\n",
    "# print the output, which is a matrix of only two features\n",
    "pca_train[:10,:]\n",
    "# ALT: plt.scatter(pca_train[:,0],pca_train[:,1])"
   ]
  },
  {
   "cell_type": "markdown",
   "id": "e37e5302-bd83-4b56-949b-27a6de09c4b7",
   "metadata": {},
   "source": [
    "## Visualising the results"
   ]
  },
  {
   "cell_type": "code",
   "execution_count": 10,
   "id": "bf9ae7d3-4419-487b-af66-5a9445681882",
   "metadata": {},
   "outputs": [
    {
     "data": {
      "image/png": "[encoded data removed]",
      "text/plain": [
       "<Figure size 640x480 with 1 Axes>"
      ]
     },
     "metadata": {},
     "output_type": "display_data"
    }
   ],
   "source": [
    "#format and visualise the transformed training data\n",
    "df_pca_train = pd.DataFrame(data = pca_train, columns = ['pc1', 'pc2'])\n",
    "df_pca_train['species']=y_train\n",
    "sns.scatterplot(x='pc1', y='pc2', hue=df_pca_train['species'], data=df_pca_train);"
   ]
  },
  {
   "cell_type": "markdown",
   "id": "d2c4c4ec-07bb-46a8-b4c0-7dc45e764b0f",
   "metadata": {},
   "source": [
    "## Transform the test data"
   ]
  },
  {
   "cell_type": "markdown",
   "id": "cb45aa23-7f6a-4496-a6f9-844364099b44",
   "metadata": {},
   "source": [
    "note: Here we only apply the learned transformers to transform the test data, NO fit is used"
   ]
  },
  {
   "cell_type": "code",
   "execution_count": 11,
   "id": "05406623-aed3-448c-aefc-3bed6ae6731b",
   "metadata": {},
   "outputs": [],
   "source": [
    "#1- First apply the scaler that has been built based on the training data to scale the test data\n",
    "X_test_ss = scaler.transform(X_test)\n",
    "#2- Second apply the pca transformation that has been built based on the training data to transfer the scaled test data\n",
    "pca_test = pca.transform(X_test_ss)"
   ]
  },
  {
   "cell_type": "markdown",
   "id": "3613ccd8-ed88-4fd2-9610-75f8175ad735",
   "metadata": {},
   "source": [
    "##  Classification"
   ]
  },
  {
   "cell_type": "code",
   "execution_count": 12,
   "id": "9e96fa0e-c170-478f-9edd-b88734c0a5a9",
   "metadata": {},
   "outputs": [
    {
     "name": "stdout",
     "output_type": "stream",
     "text": [
      "Accuracy before transformation  = 0.91\n"
     ]
    }
   ],
   "source": [
    "# Performing classification based on the orignal data\n",
    "from sklearn.metrics import accuracy_score\n",
    "from sklearn.ensemble import RandomForestClassifier\n",
    "classifier = RandomForestClassifier(random_state=0)\n",
    "#classifier=SVC()\n",
    "classifier.fit(X_train, y_train)\n",
    "score = accuracy_score(classifier.predict(X_test), y_test)\n",
    "print('Accuracy before transformation  = {:.2f}'.format(score))"
   ]
  },
  {
   "cell_type": "code",
   "execution_count": 13,
   "id": "c0502c27-5938-45c1-8fcf-067e175575f0",
   "metadata": {},
   "outputs": [
    {
     "name": "stdout",
     "output_type": "stream",
     "text": [
      "Accuracy after PCA transformation  = 0.93\n"
     ]
    }
   ],
   "source": [
    "# Performing classification using the pca-based transformed data\n",
    "classifier.fit(pca_train, y_train)\n",
    "score = accuracy_score(classifier.predict(pca_test), y_test)\n",
    "print('Accuracy after PCA transformation  = {:.2f}'.format(score))"
   ]
  },
  {
   "cell_type": "markdown",
   "id": "0b1ee65d-0ef7-41dd-a670-27e58cdf8561",
   "metadata": {},
   "source": [
    "# ICA"
   ]
  },
  {
   "cell_type": "markdown",
   "id": "7b75b0f0-4876-4b29-91e4-bb116b591070",
   "metadata": {},
   "source": [
    "Steps are very similar to the scaler and the PCA transformeres.\n",
    "\n",
    "There are several ICA approaches in fact. We will use sklearn's Fast ICA algorithm."
   ]
  },
  {
   "cell_type": "code",
   "execution_count": 14,
   "id": "6365ff54-bb9e-4fb9-870e-d93ef8129131",
   "metadata": {},
   "outputs": [
    {
     "data": {
      "image/png": "[encoded data removed]",
      "text/plain": [
       "<Figure size 640x480 with 1 Axes>"
      ]
     },
     "metadata": {},
     "output_type": "display_data"
    }
   ],
   "source": [
    "from sklearn.decomposition import FastICA\n",
    "ica = FastICA(n_components=2)\n",
    "ica_train = ica.fit_transform(X_train_ss)  # nb. we already did the scaling, above\n",
    "# Visualisation\n",
    "df_ica_train = pd.DataFrame(data = ica_train, columns = ['ic1', 'ic2'])\n",
    "df_ica_train['species']=y_train\n",
    "sns.scatterplot(x='ic1', y='ic2', hue=df_ica_train['species'], data=df_ica_train);"
   ]
  },
  {
   "cell_type": "code",
   "execution_count": 15,
   "id": "7bfec3c0-9459-4b1f-8a84-d2b0a57d4fad",
   "metadata": {},
   "outputs": [
    {
     "name": "stdout",
     "output_type": "stream",
     "text": [
      "Accuracy after ICA transformation  = 0.93\n"
     ]
    }
   ],
   "source": [
    "# Performing classification using the ica-based transformed data\n",
    "# Transform test data using ica\n",
    "classifier.fit(ica_train, y_train)\n",
    "ica_test = ica.transform(X_test_ss)\n",
    "score = accuracy_score(classifier.predict(ica_test), y_test)\n",
    "print('Accuracy after ICA transformation  = {:.2f}'.format(score))"
   ]
  },
  {
   "cell_type": "markdown",
   "id": "ea07f956-4141-4b68-b236-b7f1b939eebf",
   "metadata": {},
   "source": [
    "# GP transformers"
   ]
  },
  {
   "cell_type": "code",
   "execution_count": 16,
   "id": "60b2a107-80df-402a-8f75-318f9c027140",
   "metadata": {},
   "outputs": [
    {
     "name": "stdout",
     "output_type": "stream",
     "text": [
      "Requirement already satisfied: gplearn in /usr/local/python/3.12.1/lib/python3.12/site-packages (0.4.2)\n",
      "Requirement already satisfied: scikit-learn>=1.0.2 in /home/codespace/.local/lib/python3.12/site-packages (from gplearn) (1.7.0)\n",
      "Requirement already satisfied: joblib>=1.0.0 in /home/codespace/.local/lib/python3.12/site-packages (from gplearn) (1.5.1)\n",
      "Requirement already satisfied: numpy>=1.22.0 in /home/codespace/.local/lib/python3.12/site-packages (from scikit-learn>=1.0.2->gplearn) (2.3.1)\n",
      "Requirement already satisfied: scipy>=1.8.0 in /home/codespace/.local/lib/python3.12/site-packages (from scikit-learn>=1.0.2->gplearn) (1.16.0)\n",
      "Requirement already satisfied: threadpoolctl>=3.1.0 in /home/codespace/.local/lib/python3.12/site-packages (from scikit-learn>=1.0.2->gplearn) (3.6.0)\n",
      "\n",
      "\u001b[1m[\u001b[0m\u001b[34;49mnotice\u001b[0m\u001b[1;39;49m]\u001b[0m\u001b[39;49m A new release of pip is available: \u001b[0m\u001b[31;49m25.1.1\u001b[0m\u001b[39;49m -> \u001b[0m\u001b[32;49m25.2\u001b[0m\n",
      "\u001b[1m[\u001b[0m\u001b[34;49mnotice\u001b[0m\u001b[1;39;49m]\u001b[0m\u001b[39;49m To update, run: \u001b[0m\u001b[32;49mpython3 -m pip install --upgrade pip\u001b[0m\n"
     ]
    }
   ],
   "source": [
    "# Might need to install the package for genetic programming (gp)\n",
    "!pip install gplearn"
   ]
  },
  {
   "cell_type": "code",
   "execution_count": 18,
   "id": "b446f694-36d5-47f3-ba3e-b27e6996690d",
   "metadata": {},
   "outputs": [
    {
     "name": "stdout",
     "output_type": "stream",
     "text": [
      "Requirement already satisfied: pip in /home/codespace/.python/current/lib/python3.12/site-packages (25.1.1)\n",
      "Collecting pip\n",
      "  Downloading pip-25.2-py3-none-any.whl.metadata (4.7 kB)\n",
      "Downloading pip-25.2-py3-none-any.whl (1.8 MB)\n",
      "\u001b[2K   \u001b[90m━━━━━━━━━━━━━━━━━━━━━━━━━━━━━━━━━━━━━━━━\u001b[0m \u001b[32m1.8/1.8 MB\u001b[0m \u001b[31m35.6 MB/s\u001b[0m eta \u001b[36m0:00:00\u001b[0m\n",
      "\u001b[?25hInstalling collected packages: pip\n",
      "  Attempting uninstall: pip\n",
      "    Found existing installation: pip 25.1.1\n",
      "    Uninstalling pip-25.1.1:\n",
      "      Successfully uninstalled pip-25.1.1\n",
      "Successfully installed pip-25.2\n"
     ]
    }
   ],
   "source": [
    "!python3 -m pip install --upgrade pip"
   ]
  },
  {
   "cell_type": "code",
   "execution_count": 19,
   "id": "3ac7cba6-4ff7-4771-9358-c3ec37ad3d25",
   "metadata": {},
   "outputs": [
    {
     "data": {
      "text/plain": [
       "array([1, 1, 0, 2, 1, 2, 0, 0, 0, 2, 2, 0, 0, 1, 1, 2, 0, 0, 2, 1, 0, 2,\n",
       "       2, 2, 1, 0, 0, 0, 1, 1, 0, 0, 1, 1, 0, 0, 1, 2, 2, 0, 2, 0, 2, 0,\n",
       "       2, 1, 0, 2, 1, 2, 1, 0, 1, 2, 1, 2, 0, 1, 0, 1, 1, 1, 2, 1, 1, 2,\n",
       "       2, 0, 2, 1, 1, 2, 0, 2, 2, 1, 0, 2, 2, 0, 0, 2, 2, 2, 0, 2, 1, 2,\n",
       "       2, 0, 1, 1, 1, 1, 1, 0, 2, 1, 2, 0, 0, 1, 0, 1, 0])"
      ]
     },
     "execution_count": 19,
     "metadata": {},
     "output_type": "execute_result"
    }
   ],
   "source": [
    "#Since this package does not work when the target variable is string, an encoder is used to convert it\n",
    "from sklearn.preprocessing import LabelEncoder\n",
    "le = LabelEncoder()\n",
    "label_encoded = le.fit_transform(y_train)\n",
    "label_encoded"
   ]
  },
  {
   "cell_type": "code",
   "execution_count": null,
   "id": "f89ec2ba-59b8-402c-8294-ca0e6f106b78",
   "metadata": {},
   "outputs": [],
   "source": []
  }
 ],
 "metadata": {
  "kernelspec": {
   "display_name": "Python 3 (ipykernel)",
   "language": "python",
   "name": "python3"
  },
  "language_info": {
   "codemirror_mode": {
    "name": "ipython",
    "version": 3
   },
   "file_extension": ".py",
   "mimetype": "text/x-python",
   "name": "python",
   "nbconvert_exporter": "python",
   "pygments_lexer": "ipython3",
   "version": "3.12.1"
  }
 },
 "nbformat": 4,
 "nbformat_minor": 5
}
