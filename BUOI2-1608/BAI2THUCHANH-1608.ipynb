{
 "cells": [
  {
   "cell_type": "markdown",
   "id": "1b088783-3c2e-457c-8cd6-2027938d00aa",
   "metadata": {},
   "source": [
    "# BÀI TẬP THỰC HÀNH CÁC THÀNH PHẦN CƠ BẢN CỦA PYTHON"
   ]
  },
  {
   "cell_type": "markdown",
   "id": "9b95090b-7ffb-4466-b86e-fbc5e6c0a318",
   "metadata": {},
   "source": [
    "## BÀI TẬP MẪU"
   ]
  },
  {
   "cell_type": "markdown",
   "id": "2ab618a7-2d38-455c-a90c-5d8775090901",
   "metadata": {},
   "source": [
    "### Bài 1. In chuỗi "
   ]
  },
  {
   "cell_type": "code",
   "execution_count": 1,
   "id": "d265811e-e696-4ad0-b2c9-53321689ca7d",
   "metadata": {},
   "outputs": [
    {
     "name": "stdout",
     "output_type": "stream",
     "text": [
      "Whoever is happy will make others happy too\n",
      "--Anne Frank\n"
     ]
    }
   ],
   "source": [
    "print(\"Whoever is happy will make others happy too\"); \n",
    "print(\"--Anne Frank\")"
   ]
  },
  {
   "cell_type": "markdown",
   "id": "02f18961-903e-4347-91fe-4a4c4dd01b3a",
   "metadata": {},
   "source": [
    "### Bài 2. Biểu thức tính toán \n",
    "Viết chương trình nhập vào hai số nguyên a và b. Hãy tính toán kết quả của các biểu thức sau A+B, A￾B, A*B, A/B (chia lấy nguyên), A%B (chia lấy dư), A / B (chia lẻ) (làm tròn 2 số lẻ). \n",
    "Khi in ra, kết quả có dạng “A [+,-,*,/,%] B = C”. A được căn lề trái 5, + (bình thường), B căn lề phải 5, \n",
    "dấu = bình thường, C căn lề phải 5"
   ]
  },
  {
   "cell_type": "code",
   "execution_count": 2,
   "id": "3407313f-335e-48d2-acc8-bb42bcdad22f",
   "metadata": {},
   "outputs": [
    {
     "name": "stdin",
     "output_type": "stream",
     "text": [
      "Moi ban nhap so a:  5\n",
      "Moi ban nhap so b:  6\n"
     ]
    },
    {
     "name": "stdout",
     "output_type": "stream",
     "text": [
      "Cac ket qua tinh toan: \n",
      "5     +     6 =    11\n",
      "5     -     6 =    -1\n",
      "5     *     6 =    30\n",
      "5     /     6 =     0\n",
      "5     /     6 =     5\n",
      "5     /     6 =  0.83\n"
     ]
    }
   ],
   "source": [
    "# Nhập dữ liệu \n",
    "a = int(input(\"Moi ban nhap so a: \")) \n",
    "b = int(input(\"Moi ban nhap so b: \"))\n",
    "# Xử lý \n",
    "kqCong = a + b\n",
    "kqTru = a - b\n",
    "kqNhan = a * b\n",
    "kqChiaNguyen = a // b\n",
    "kqDu= a % b\n",
    "kqChiaThuc = a / b\n",
    "# Xuất dữ liệu \n",
    "print(\"Cac ket qua tinh toan: \")\n",
    "print(\"%-5d + %5d = %5d\"%(a, b, kqCong)) \n",
    "print(\"%-5d - %5d = %5d\"%(a, b, kqTru)) \n",
    "print(\"%-5d * %5d = %5d\"%(a, b, kqNhan))\n",
    "print(\"%-5d / %5d = %5d\"%(a, b, kqChiaNguyen)) \n",
    "print(\"%-5d / %5d = %5d\"%(a, b, kqDu))\n",
    "print(\"%-5d / %5d = %5.2f\"%(a, b, kqChiaThuc))"
   ]
  },
  {
   "cell_type": "markdown",
   "id": "0c56b287-7a3f-4018-890f-490fb3f97e1c",
   "metadata": {},
   "source": [
    "### Bài 3. Biểu thức so sánh SoSanh.* \n",
    "Viết chương trình nhập vào hai số thực a và b. Hãy viết chương trình ước lượng các biểu thức so sánh \n",
    "A>B, A<B, A>=B, A<=B, A==B, A!=B. Số thực được định dạng có hai số lẻ, có dấu phân cách hàng \n",
    "ngàn"
   ]
  },
  {
   "cell_type": "code",
   "execution_count": 3,
   "id": "2361239e-6248-420d-8247-5ba3b2a6d442",
   "metadata": {},
   "outputs": [
    {
     "name": "stdin",
     "output_type": "stream",
     "text": [
      "Moi ban nhap so a:  2.5\n",
      "Moi ban nhap so b:  6.8\n"
     ]
    },
    {
     "name": "stdout",
     "output_type": "stream",
     "text": [
      "Ket qua so sanh hai so thuc 2.50 va 6.80:\n",
      "2.50     <     6.80:     True\n",
      "2.50     <=     6.80:     True\n",
      "2.50     >     6.80:    False\n",
      "2.50     >=     6.80:    False\n",
      "2.50     ==     6.80:    False\n",
      "2.50     !=     6.80:     True\n"
     ]
    }
   ],
   "source": [
    "# Nhập dữ liệu \n",
    "a = float(input(\"Moi ban nhap so a: \")) \n",
    "b = float(input(\"Moi ban nhap so b: \"))\n",
    "# Xử lý \n",
    "laNhoHon = (a < b) \n",
    "laNhoHonBang = (a <= b)\n",
    "laLonHon = (a > b) \n",
    "laLonHonBang = (a >= b)\n",
    "laBang = (a == b)\n",
    "laKhacNhau = (a != b)\n",
    "# Xuất dữ liệu \n",
    "print(\"Ket qua so sanh hai so thuc %.2f va %.2f:\"%(a, b))\n",
    "print(\"%-8.2f < %8.2f: %8s\"%(a, b, laNhoHon))\n",
    "print(\"%-8.2f <= %8.2f: %8s\"%(a, b, laNhoHonBang))\n",
    "print(\"%-8.2f > %8.2f: %8s\"%(a, b, laLonHon))\n",
    "print(\"%-8.2f >= %8.2f: %8s\"%(a, b, laLonHonBang))\n",
    "print(\"%-8.2f == %8.2f: %8s\"%(a, b, laBang))\n",
    "print(\"%-8.2f != %8.2f: %8s\"%(a, b, laKhacNhau))"
   ]
  },
  {
   "cell_type": "markdown",
   "id": "c2d07bb5-d511-4c7c-8880-056362c1420a",
   "metadata": {},
   "source": [
    "### Bài 4. Tính giá trị hàm số\n",
    "Hãy viết chương trình nhập vào số thực x và tính giá trị biểu thức:"
   ]
  },
  {
   "cell_type": "code",
   "execution_count": 4,
   "id": "f63a47c4-70fe-48ed-8295-163c6cc6af91",
   "metadata": {},
   "outputs": [
    {
     "name": "stdin",
     "output_type": "stream",
     "text": [
      "Moi ban nhap vao gia tri cua bien so x:  2.3\n"
     ]
    },
    {
     "name": "stdout",
     "output_type": "stream",
     "text": [
      "Gia tri cua ham so f(2.30) = 3.27.\n"
     ]
    }
   ],
   "source": [
    "## Nạp thư viện\n",
    "import math\n",
    "# Nhập dữ liệu \n",
    "x = float(input(\"Moi ban nhap vao gia tri cua bien so x: \"))\n",
    "# Xử lý \n",
    "fx = x + math.pow(x, 5) / (1 * 2 * 3 * 4 * 5) + \\\n",
    "math.sqrt(abs(x)) / math.pow(x, 3.0 / 2)\n",
    "# Xuất dữ liệu \n",
    "print(\"Gia tri cua ham so f(%.2f) = %.2f.\"%(x, fx))"
   ]
  },
  {
   "cell_type": "markdown",
   "id": "5f44c56d-4a07-4c4f-bb7b-36cfea0473dc",
   "metadata": {},
   "source": [
    "### Bài 5. Tổng chữ số\n",
    "Cho số nguyên n có 4 chữ số. Hãy tính tổng các chữ số của n. "
   ]
  },
  {
   "cell_type": "code",
   "execution_count": 5,
   "id": "763d8e91-956c-4458-800a-41de043ed48b",
   "metadata": {},
   "outputs": [
    {
     "name": "stdin",
     "output_type": "stream",
     "text": [
      "Moi ban nhap vao gia tri cua bien so x:  1234\n"
     ]
    },
    {
     "name": "stdout",
     "output_type": "stream",
     "text": [
      "Gia tri cua ham so f(1234.00) = 23844847676662.54.\n"
     ]
    }
   ],
   "source": [
    "# Nạp thư viện\n",
    "import math\n",
    "# Nhập dữ liệu \n",
    "x = float(input(\"Moi ban nhap vao gia tri cua bien so x: \"))\n",
    "# Xử lý \n",
    "fx = x + math.pow(x, 5) / (1 * 2 * 3 * 4 * 5) + \\\n",
    "math.sqrt(abs(x)) / math.pow(x, 3.0 / 2)\n",
    "# Xuất dữ liệu \n",
    "print(\"Gia tri cua ham so f(%.2f) = %.2f.\"%(x, fx))"
   ]
  },
  {
   "cell_type": "markdown",
   "id": "448d5bbb-d569-41d6-91a4-87f08f878584",
   "metadata": {},
   "source": [
    "## BÀI TẬP THỰC HÀNH"
   ]
  },
  {
   "cell_type": "markdown",
   "id": "2c499ca3-6522-45e3-ba18-a7d35021d42a",
   "metadata": {},
   "source": [
    "### Bài 1. In nhãn  \n",
    "Viết chương trình in ra nhãn gồm nhiều dòng như sau: \n",
    "************************** \n",
    "* Truong: Dai Hoc UEH * \n",
    "* Khoa: CNTT * \n",
    "* Ho ten: * \n",
    "************************** "
   ]
  },
  {
   "cell_type": "code",
   "execution_count": 6,
   "id": "0c32a815-9f67-4499-aef3-e539bb9d47a1",
   "metadata": {},
   "outputs": [
    {
     "name": "stdout",
     "output_type": "stream",
     "text": [
      "**************************\n",
      "* Truong: Dai Hoc UEH *\n",
      "* Khoa: CNTT          *\n",
      "* Ho ten:             *\n",
      "**************************\n"
     ]
    }
   ],
   "source": [
    "print(\"*\" * 26)\n",
    "print(\"* Truong: Dai Hoc UEH *\")\n",
    "print(\"* Khoa: CNTT          *\")\n",
    "print(\"* Ho ten:             *\")\n",
    "print(\"*\" * 26)"
   ]
  },
  {
   "cell_type": "markdown",
   "id": "a0424551-7405-4a88-b1ff-0b623a981ab5",
   "metadata": {},
   "source": [
    "### Bài 2. Tính diện tích và chu hình tròn \n",
    "Nhập vào bán kính R của một hình tròn. Hãy tính diện tích và chu vi hình tròn đó theo công thức:𝑆 = \n",
    "3.14𝑥𝑅2, 𝑃 = 2𝑥3.14𝑥𝑅. In kết quả với 1 số lẻ thập phân. "
   ]
  },
  {
   "cell_type": "code",
   "execution_count": 7,
   "id": "f7b42e5e-6d4a-47df-b527-f6c1f8bb846a",
   "metadata": {},
   "outputs": [
    {
     "name": "stdin",
     "output_type": "stream",
     "text": [
      "Nhập bán kính R:  5\n"
     ]
    },
    {
     "name": "stdout",
     "output_type": "stream",
     "text": [
      "Dien tich hinh tron: 78.5\n",
      "Chu vi hinh tron: 31.4\n"
     ]
    }
   ],
   "source": [
    "# Nhập bán kính\n",
    "R = float(input(\"Nhập bán kính R: \"))\n",
    "# Tính diện tích và chu vi\n",
    "S = 3.14 * R ** 2\n",
    "P = 2 * 3.14 * R\n",
    "# In kết quả với 1 chữ số thập phân\n",
    "print(\"Dien tich hinh tron: {:.1f}\".format(S))\n",
    "print(\"Chu vi hinh tron: {:.1f}\".format(P))"
   ]
  },
  {
   "cell_type": "markdown",
   "id": "9ffc66dd-4232-4490-904d-cc70583b586e",
   "metadata": {},
   "source": [
    "### Bài 3. Đổi sang giây\n",
    "Một thiết bị hoạt động được h giờ, m phút và s giây. Hãy viết chương trình chuyển thời gian đó sang \n",
    "tổng số giây. "
   ]
  },
  {
   "cell_type": "code",
   "execution_count": 8,
   "id": "820159a2-f0db-4bcc-aa41-2edaed3cbc23",
   "metadata": {},
   "outputs": [
    {
     "name": "stdin",
     "output_type": "stream",
     "text": [
      "Nhập số giờ:  1\n",
      "Nhập số phút:  20\n",
      "Nhập số giây:  10\n"
     ]
    },
    {
     "name": "stdout",
     "output_type": "stream",
     "text": [
      "Tổng số giây: 4810\n"
     ]
    }
   ],
   "source": [
    "# Nhập giờ, phút, giây\n",
    "h = int(input(\"Nhập số giờ: \"))\n",
    "m = int(input(\"Nhập số phút: \"))\n",
    "s = int(input(\"Nhập số giây: \"))\n",
    "# Chuyển sang tổng số giây\n",
    "total_seconds = h * 3600 + m * 60 + s\n",
    "print(\"Tổng số giây:\", total_seconds)\n"
   ]
  },
  {
   "cell_type": "markdown",
   "id": "a5294972-84a1-45d4-9206-1288e9d07e5f",
   "metadata": {},
   "source": [
    "### Bài 4. Đổi sang giờ phút giây  \n",
    "Một thiết bị hoạt động được t giây. Hãy viết chương trình chuyển số giây đó dưới dạng số giờ, số phút \n",
    "và số giây"
   ]
  },
  {
   "cell_type": "code",
   "execution_count": 10,
   "id": "95fe42ef-6751-40fe-ae3e-2e258f8dbf6c",
   "metadata": {},
   "outputs": [
    {
     "name": "stdin",
     "output_type": "stream",
     "text": [
      "Nhập số giây:  4810\n"
     ]
    },
    {
     "name": "stdout",
     "output_type": "stream",
     "text": [
      "4810 giây = 1 giờ, 20 phút, 10 giây\n"
     ]
    }
   ],
   "source": [
    "t = int(input(\"Nhập số giây: \"))\n",
    "h, m, s = t//3600, (t%3600)//60, t%60\n",
    "print(f\"{t} giây = {h} giờ, {m} phút, {s} giây\")"
   ]
  },
  {
   "cell_type": "markdown",
   "id": "daee1837-87a0-4913-a9af-be90bdbd8f05",
   "metadata": {},
   "source": [
    "### Bài 5. Tính diện tích tam giác  \n",
    "Cho 3 số thực a, b, c là độ dài 3 cạnh của một tam giác. Hãy tính diện tích tam giác này theo công thức \n",
    "Heron. In kết quả với 2 số lẻ thập phân"
   ]
  },
  {
   "cell_type": "code",
   "execution_count": 11,
   "id": "b55d7f65-17e5-4309-afb5-63ce1e68d0db",
   "metadata": {},
   "outputs": [
    {
     "name": "stdin",
     "output_type": "stream",
     "text": [
      "Nhập cạnh a:  2\n",
      "Nhập cạnh b:  4\n",
      "Nhập cạnh c:  3\n"
     ]
    },
    {
     "name": "stdout",
     "output_type": "stream",
     "text": [
      "Dien tich tam giac: 2.90\n"
     ]
    }
   ],
   "source": [
    "import math\n",
    "a = float(input(\"Nhập cạnh a: \"))\n",
    "b = float(input(\"Nhập cạnh b: \"))\n",
    "c = float(input(\"Nhập cạnh c: \"))\n",
    "p = (a + b + c) / 2\n",
    "S = math.sqrt(p * (p - a) * (p - b) * (p - c))\n",
    "print(\"Dien tich tam giac: {:.2f}\".format(S))"
   ]
  },
  {
   "cell_type": "markdown",
   "id": "57504af2-b512-4181-a319-e10f6610b0da",
   "metadata": {},
   "source": [
    "### Bài 6. Hàm Mũ \n",
    "Nhập số thực a và số nguyên n. Hãy tính a\n",
    "n\n",
    "."
   ]
  },
  {
   "cell_type": "code",
   "execution_count": 13,
   "id": "b731c258-36af-40df-91a0-5715af5e9d01",
   "metadata": {},
   "outputs": [
    {
     "name": "stdin",
     "output_type": "stream",
     "text": [
      "Nhập số thực a:  2\n",
      "Nhập số nguyên n:  4\n"
     ]
    },
    {
     "name": "stdout",
     "output_type": "stream",
     "text": [
      "2.0 ^ 4 = 16.0\n"
     ]
    }
   ],
   "source": [
    "# Nhập số thực và số nguyên\n",
    "a = float(input(\"Nhập số thực a: \"))\n",
    "n = int(input(\"Nhập số nguyên n: \"))\n",
    "result = a ** n\n",
    "print(f\"{a} ^ {n} = {result}\")"
   ]
  },
  {
   "cell_type": "markdown",
   "id": "c9cb6140-e6cf-464f-adb4-f5db7fa31efa",
   "metadata": {},
   "source": [
    "### Bài 7. Đảo số \n",
    "Cho số nguyên x có 4 chữ số. Hãy tìm số y là số đảo của số x, tức là số có các chữ số viết theo thứ tự\n",
    "ngược lại của x. "
   ]
  },
  {
   "cell_type": "code",
   "execution_count": 14,
   "id": "967f3e5a-f502-421f-8873-c660b5b0f62a",
   "metadata": {},
   "outputs": [
    {
     "name": "stdin",
     "output_type": "stream",
     "text": [
      "Nhập số nguyên x (4 chữ số):  1234\n"
     ]
    },
    {
     "name": "stdout",
     "output_type": "stream",
     "text": [
      "Số đảo của 1234 là 4321\n"
     ]
    }
   ],
   "source": [
    "# Nhập số nguyên 4 chữ số\n",
    "x = int(input(\"Nhập số nguyên x (4 chữ số): \"))\n",
    "# Đảo số bằng cách chuyển sang chuỗi rồi đảo ngược\n",
    "y = int(str(x)[::-1])\n",
    "print(f\"Số đảo của {x} là {y}\")"
   ]
  },
  {
   "cell_type": "markdown",
   "id": "8f675e2b-0531-4134-8236-6148e8d695dc",
   "metadata": {},
   "source": [
    "### Bài 8. Độ sang Radian \n",
    "Tìm công thức và viết chương trình chuyển một góc từ độ sang radian."
   ]
  },
  {
   "cell_type": "code",
   "execution_count": 16,
   "id": "1e3990fd-007f-481f-8f47-f1ccb7f2d092",
   "metadata": {},
   "outputs": [
    {
     "name": "stdin",
     "output_type": "stream",
     "text": [
      "Nhập góc (độ):  180\n"
     ]
    },
    {
     "name": "stdout",
     "output_type": "stream",
     "text": [
      "180.0 độ = 3.141592653589793 radian\n"
     ]
    }
   ],
   "source": [
    "import math\n",
    "# Nhập góc theo độ\n",
    "degree = float(input(\"Nhập góc (độ): \"))\n",
    "# Chuyển sang radian\n",
    "radian = degree * math.pi / 180\n",
    "print(f\"{degree} độ = {radian} radian\")"
   ]
  },
  {
   "cell_type": "markdown",
   "id": "dbe1fc0e-d1f9-4a0a-9cd0-da04c78e3c13",
   "metadata": {},
   "source": [
    "### Bài 9. Hàm số 1 \n",
    "Nhập vào số thực x, tính và in ra các giá trị y1, y (làm tròn 2 số lẻ):"
   ]
  },
  {
   "cell_type": "code",
   "execution_count": 2,
   "id": "3b139d8a-b4f9-4bb2-90cf-81e9e26d2673",
   "metadata": {},
   "outputs": [
    {
     "name": "stdin",
     "output_type": "stream",
     "text": [
      "Nhập số thực x:  4\n"
     ]
    },
    {
     "name": "stdout",
     "output_type": "stream",
     "text": [
      "y1 = 436.0\n",
      "y2 = 0.0012392135810892755\n"
     ]
    }
   ],
   "source": [
    "import math\n",
    "# Nhập số thực x\n",
    "x = float(input(\"Nhập số thực x: \"))\n",
    "y1 = 4 * ((x**2) + 10 * math.sqrt(x**3) + 3*x + 1)\n",
    "numerator = math.sin(math.pi**2) + math.sqrt(x**2 + 1)\n",
    "denominator = math.exp(2*x) + math.cos(x*math.pi/4)\n",
    "y2 = numerator / denominator\n",
    "# In kết quả\n",
    "print(\"y1 =\", y1)\n",
    "print(\"y2 =\", y2)"
   ]
  },
  {
   "cell_type": "markdown",
   "id": "d24b702a-8731-4689-b68e-1b98df23ed8e",
   "metadata": {},
   "source": [
    "### Bài 10. Khoảng cách \n",
    "Tính khoảng cách giữa 2 điểm A(𝑥1, 𝑦1) và B(𝑥2, 𝑦2)."
   ]
  },
  {
   "cell_type": "code",
   "execution_count": 3,
   "id": "2c6cc770-f8ab-4779-af31-d4deee5408cf",
   "metadata": {},
   "outputs": [
    {
     "name": "stdin",
     "output_type": "stream",
     "text": [
      "Nhập x1:  4\n",
      "Nhập y1:  5\n",
      "Nhập x2:  6\n",
      "Nhập y2:  3\n"
     ]
    },
    {
     "name": "stdout",
     "output_type": "stream",
     "text": [
      "Khoảng cách giữa A và B là: 2.8284271247461903\n"
     ]
    }
   ],
   "source": [
    "import math  # Thư viện toán học\n",
    "# Nhập tọa độ hai điểm\n",
    "x1 = float(input(\"Nhập x1: \"))\n",
    "y1 = float(input(\"Nhập y1: \"))\n",
    "x2 = float(input(\"Nhập x2: \"))\n",
    "y2 = float(input(\"Nhập y2: \"))\n",
    "# Tính khoảng cách\n",
    "d = math.sqrt((x2 - x1)**2 + (y2 - y1)**2)\n",
    "print(\"Khoảng cách giữa A và B là:\", d)"
   ]
  },
  {
   "cell_type": "markdown",
   "id": "1ef978f3-3376-4111-88cb-5ba06bdabdd9",
   "metadata": {},
   "source": [
    "## CẤU TRÚC ĐIỀU KIỆN"
   ]
  },
  {
   "cell_type": "markdown",
   "id": "bbf33bfd-09b8-473a-8179-bf03ea0d52c2",
   "metadata": {},
   "source": [
    "### Bài 1. Tìm giá trị lớn nhất \n",
    "Viết chương trình nhập vào 3 số nguyên a, b, c. Tìm giá trị lớn nhất của 3 số đó"
   ]
  },
  {
   "cell_type": "code",
   "execution_count": 2,
   "id": "a7221923-47a8-4563-8696-76afa87bbc95",
   "metadata": {},
   "outputs": [
    {
     "name": "stdin",
     "output_type": "stream",
     "text": [
      "Nhập số a:  2\n",
      "Nhập số b:  5\n",
      "Nhập số c:  4\n"
     ]
    },
    {
     "name": "stdout",
     "output_type": "stream",
     "text": [
      "Max(2, 5, 4) = 5\n"
     ]
    }
   ],
   "source": [
    "# Nhập 3 số nguyên\n",
    "a = int(input(\"Nhập số a: \"))\n",
    "b = int(input(\"Nhập số b: \"))\n",
    "c = int(input(\"Nhập số c: \"))\n",
    "# Tìm số lớn nhất bằng cách dùng max() từng bước\n",
    "vmax = max(a, b)       # Lấy lớn nhất của a và b\n",
    "vmax = max(vmax, c)    # So sánh với c để lấy số lớn nhất cuối cùng\n",
    "# In kết quả\n",
    "print(f\"Max({a}, {b}, {c}) = {vmax}\")"
   ]
  },
  {
   "cell_type": "markdown",
   "id": "0230817e-e674-4146-b63a-c0d75b7c8707",
   "metadata": {},
   "source": [
    "### Bài 2. Sắp xếp \n",
    "Cho ba số nguyên a, b, c. Hãy sắp xếp ba số nguyên theo thứ tự tăng dần. "
   ]
  },
  {
   "cell_type": "code",
   "execution_count": 7,
   "id": "91704afc-99f4-442b-8550-48b39c784caa",
   "metadata": {},
   "outputs": [
    {
     "name": "stdin",
     "output_type": "stream",
     "text": [
      "Nhập số a:  9\n",
      "Nhập số b:  8\n",
      "Nhập số c:  7\n"
     ]
    },
    {
     "name": "stdout",
     "output_type": "stream",
     "text": [
      "Thứ tự tăng dần: 7 8 9\n"
     ]
    }
   ],
   "source": [
    "a = int(input(\"Nhập số a: \"))\n",
    "b = int(input(\"Nhập số b: \"))\n",
    "c = int(input(\"Nhập số c: \"))\n",
    "\n",
    "# Sắp xếp bằng sorted()\n",
    "arr = sorted([a, b, c])\n",
    "\n",
    "print(\"Thứ tự tăng dần:\", arr[0], arr[1], arr[2])\n"
   ]
  },
  {
   "cell_type": "markdown",
   "id": "342010db-aac7-492c-aa19-c870b52bedfd",
   "metadata": {},
   "source": [
    "### Bài 3. Giải phuơng trình bậc 1  \n",
    "Nhập 2 số thực a, b. Tìm nghiệm của phương trình bậc 1: ax + b = 0. "
   ]
  },
  {
   "cell_type": "code",
   "execution_count": 8,
   "id": "adf7e952-de5b-4647-ab1b-7c26c77f15c6",
   "metadata": {},
   "outputs": [
    {
     "name": "stdin",
     "output_type": "stream",
     "text": [
      "Nhập a:  0\n",
      "Nhập b:  10\n"
     ]
    },
    {
     "name": "stdout",
     "output_type": "stream",
     "text": [
      "0.00x + 10.00 = 0: vô nghiệm\n"
     ]
    }
   ],
   "source": [
    "# Input a, b with ax + b = 0\n",
    "a = float(input(\"Nhập a: \"))\n",
    "b = float(input(\"Nhập b: \"))\n",
    "\n",
    "# Process\n",
    "def solv1deg(a, b):\n",
    "    \"\"\"\n",
    "    Solve equation ax + b = 0\n",
    "    \"\"\"\n",
    "    nsol, x = None, None\n",
    "    if a == 0:\n",
    "        if b == 0:\n",
    "            nsol = -1   # Vô số nghiệm\n",
    "        else:\n",
    "            nsol = 0    # Vô nghiệm\n",
    "    else:\n",
    "        nsol = 1        # Có 1 nghiệm duy nhất\n",
    "        x = -b / a\n",
    "    return nsol, x\n",
    "\n",
    "# Call function\n",
    "nsol, x = solv1deg(a, b)\n",
    "\n",
    "# Output\n",
    "if nsol == -1:\n",
    "    print(\"%.2fx + %.2f = 0: vô số nghiệm\" % (a, b))\n",
    "elif nsol == 0:\n",
    "    print(\"%.2fx + %.2f = 0: vô nghiệm\" % (a, b))\n",
    "else:\n",
    "    print(\"%.2fx + %.2f = 0: x = %.2f\" % (a, b, x))\n"
   ]
  },
  {
   "cell_type": "markdown",
   "id": "7347c88b-87a9-4b8b-a135-8cee3a676c4f",
   "metadata": {},
   "source": [
    "### Bài 4. Tìm số ngày của năm (dùng rẽ nhánh) \n",
    "Nhập vào số năm n, cho biết năm n có bao nhiêu ngày. Biết rằng năm nhuần là năm chia hết cho 400 \n",
    "hay chia hết cho 4 nhưng không chia hết cho 100. Ví dụ: năm 2004, 2008, 2012 là năm nhuần và có số\n",
    "ngày là 366, năm 1945 không phải là năm nhuần và có số ngày là 365."
   ]
  },
  {
   "cell_type": "code",
   "execution_count": 9,
   "id": "05792d90-b1b8-492d-a68d-d22cb9762832",
   "metadata": {},
   "outputs": [
    {
     "name": "stdin",
     "output_type": "stream",
     "text": [
      "Nhập năm:  1992\n"
     ]
    },
    {
     "name": "stdout",
     "output_type": "stream",
     "text": [
      "Năm 1992 có 366 ngày\n"
     ]
    }
   ],
   "source": [
    "# Bài: Tìm số ngày của năm (dùng rẽ nhánh)\n",
    "\n",
    "# Nhập năm\n",
    "n = int(input(\"Nhập năm: \"))\n",
    "\n",
    "# Kiểm tra năm nhuận\n",
    "if (n % 400 == 0) or (n % 4 == 0 and n % 100 != 0):\n",
    "    days = 366\n",
    "else:\n",
    "    days = 365\n",
    "\n",
    "# Xuất kết quả\n",
    "print(\"Năm %d có %d ngày\" % (n, days))\n"
   ]
  },
  {
   "cell_type": "markdown",
   "id": "75941958-3c75-4cfb-9571-e5b976715fab",
   "metadata": {},
   "source": [
    "### Bài 5. Tính toán \n",
    "Viết chương trình nhập vào 2 số thực và một phép toán (+, -, *, /). Cho biết kết quả của phép toán với 2 \n",
    "số đã nhập"
   ]
  },
  {
   "cell_type": "code",
   "execution_count": 2,
   "id": "cd96f74a-7855-4f2d-b8ca-0a25a58e4e03",
   "metadata": {},
   "outputs": [
    {
     "name": "stdin",
     "output_type": "stream",
     "text": [
      "Nhập số thứ nhất:  9\n",
      "Nhập số thứ hai:  7\n",
      "Nhập phép toán (+, -, *, /):  +\n"
     ]
    },
    {
     "name": "stdout",
     "output_type": "stream",
     "text": [
      "9.0 + 7.0 = 16.0\n"
     ]
    }
   ],
   "source": [
    "# Bài 5. Tính toán\n",
    "\n",
    "# nhập 2 số thực\n",
    "a = float(input(\"Nhập số thứ nhất: \"))\n",
    "b = float(input(\"Nhập số thứ hai: \"))\n",
    "# nhập phép toán\n",
    "op = input(\"Nhập phép toán (+, -, *, /): \")\n",
    "# xử lý phép toán\n",
    "if op == \"+\":\n",
    "    result = a + b\n",
    "    print(f\"{a} + {b} = {result}\")\n",
    "elif op == \"-\":\n",
    "    result = a - b\n",
    "    print(f\"{a} - {b} = {result}\")\n",
    "elif op == \"*\":\n",
    "    result = a * b\n",
    "    print(f\"{a} * {b} = {result}\")\n",
    "elif op == \"/\":\n",
    "    if b != 0:\n",
    "        result = a / b\n",
    "        print(f\"{a} / {b} = {result}\")\n",
    "    else:\n",
    "        print(\"Lỗi: không thể chia cho 0\")\n",
    "else:\n",
    "    print(\"Phép toán không hợp lệ!\")"
   ]
  },
  {
   "cell_type": "markdown",
   "id": "81d133ac-40e9-42a9-b1bd-7e06b0031777",
   "metadata": {},
   "source": [
    "### Bài 6. Tính tiền điện tiêu thụ trong hộ gia đình \n",
    "Cứ mỗi tháng nhân viên đi ghi chỉ số điện tiêu thụ của từng hộ gia đình bao gồm thông tin chỉ số điện \n",
    "cũ, chỉ số điện mới. Biết bảng giá định mức sử dụng điện của hộ gia đình trên tháng"
   ]
  },
  {
   "cell_type": "code",
   "execution_count": 6,
   "id": "95f3177c-5034-45cc-a934-1e44278aa510",
   "metadata": {},
   "outputs": [
    {
     "name": "stdin",
     "output_type": "stream",
     "text": [
      "Nhập số kWh tiêu thụ:  187\n"
     ]
    },
    {
     "name": "stdout",
     "output_type": "stream",
     "text": [
      "The amount to pay for 187 kWh consumed in the month is 275,535 VND\n"
     ]
    }
   ],
   "source": [
    "def tinh_tien_dien(kWh):\n",
    "    if kWh <= 100:\n",
    "        tien = kWh * 1242\n",
    "    elif kWh <= 150:\n",
    "        tien = 100 * 1242 + (kWh - 100) * 1304\n",
    "    elif kWh <= 200:\n",
    "        tien = 100 * 1242 + 50 * 1304 + (kWh - 150) * 1651\n",
    "    elif kWh <= 300:\n",
    "        tien = 100 * 1242 + 50 * 1304 + 50 * 1651 + (kWh - 200) * 1788\n",
    "    elif kWh <= 400:\n",
    "        tien = 100 * 1242 + 50 * 1304 + 50 * 1651 + 100 * 1788 + (kWh - 300) * 1912\n",
    "    else:  # kWh > 400\n",
    "        tien = 100 * 1242 + 50 * 1304 + 50 * 1651 + 100 * 1788 + 100 * 1912 + (kWh - 400) * 1962\n",
    "\n",
    "    return tien   # trả về kết quả\n",
    "\n",
    "kWh = int(input(\"Nhập số kWh tiêu thụ: \"))\n",
    "tien_dien = tinh_tien_dien(kWh)\n",
    "tien_dien_vat = tien_dien * 1.1  # thêm 10% VAT\n",
    "print(f\"The amount to pay for {kWh} kWh consumed in the month is {int(tien_dien_vat):,} VND\")\n"
   ]
  },
  {
   "cell_type": "markdown",
   "id": "bd2d87ef-9076-43c3-bc50-ab464114140f",
   "metadata": {},
   "source": [
    "### Bài 7. Ngày trước  \n",
    "Nhập vào ngày, tháng, năm. Hỏi ngày trước đó là ngày nào? "
   ]
  },
  {
   "cell_type": "code",
   "execution_count": 7,
   "id": "6244b588-7ea9-4f6b-aa8f-24f9e2df86f8",
   "metadata": {},
   "outputs": [
    {
     "name": "stdin",
     "output_type": "stream",
     "text": [
      "Nhập ngày:  18\n",
      "Nhập tháng:  6\n",
      "Nhập năm:  2004\n"
     ]
    },
    {
     "name": "stdout",
     "output_type": "stream",
     "text": [
      "Previous day of 18/6/2004 is 17/6/2004.\n"
     ]
    }
   ],
   "source": [
    "# Hàm kiểm tra năm nhuận\n",
    "def is_leap_year(year):\n",
    "    return (year % 400 == 0) or (year % 4 == 0 and year % 100 != 0)\n",
    "\n",
    "# Hàm tính số ngày trong tháng\n",
    "def days_in_month(month, year):\n",
    "    if month in [1, 3, 5, 7, 8, 10, 12]:\n",
    "        return 31\n",
    "    elif month in [4, 6, 9, 11]:\n",
    "        return 30\n",
    "    elif month == 2:\n",
    "        return 29 if is_leap_year(year) else 28\n",
    "    else:\n",
    "        return None  # tháng không hợp lệ\n",
    "\n",
    "# Hàm tìm ngày trước đó\n",
    "def previous_day(d, m, y):\n",
    "    if d == 1 and m == 1:\n",
    "        return 31, 12, y - 1\n",
    "    elif d == 1:\n",
    "        prev_month = m - 1\n",
    "        prev_day = days_in_month(prev_month, y)\n",
    "        return prev_day, prev_month, y\n",
    "    else:\n",
    "        return d - 1, m, y\n",
    "# --- Chạy thử ---\n",
    "d = int(input(\"Nhập ngày: \"))\n",
    "m = int(input(\"Nhập tháng: \"))\n",
    "y = int(input(\"Nhập năm: \"))\n",
    "pd, pm, py = previous_day(d, m, y)\n",
    "print(f\"Previous day of {d}/{m}/{y} is {pd}/{pm}/{py}.\")\n"
   ]
  },
  {
   "cell_type": "markdown",
   "id": "99955273-a80e-4923-9855-5f080f61cc63",
   "metadata": {},
   "source": [
    "### Bài 8. Kiểm tra tam giác \n",
    "Nhập vào ba cạnh a, b, c của một tam giác. Hãy kiểm tra xem a, b, c có tạo thành một tam giác không?  Biết a, b, c tạo thành một tam giác khi tổng hai cạnh bất kỳ lớn hơn cạnh còn lại."
   ]
  },
  {
   "cell_type": "code",
   "execution_count": 8,
   "id": "2de53c48-63b0-4711-8937-88887ac2a2ea",
   "metadata": {},
   "outputs": [
    {
     "name": "stdin",
     "output_type": "stream",
     "text": [
      "Nhập cạnh a:  4\n",
      "Nhập cạnh b:  6\n",
      "Nhập cạnh c:  9\n"
     ]
    },
    {
     "name": "stdout",
     "output_type": "stream",
     "text": [
      "Ba cạnh 4.0 6.0 9.0 tạo thành một tam giác.\n",
      "Theo cách sắp xếp: Đây là tam giác.\n"
     ]
    }
   ],
   "source": [
    "# Bài 8: Kiểm tra tam giác\n",
    "\n",
    "# Nhập vào 3 cạnh a, b, c\n",
    "a = float(input(\"Nhập cạnh a: \"))\n",
    "b = float(input(\"Nhập cạnh b: \"))\n",
    "c = float(input(\"Nhập cạnh c: \"))\n",
    "\n",
    "# Cách 1: kiểm tra trực tiếp không cần sắp xếp\n",
    "if (a + b > c) and (a + c > b) and (b + c > a):\n",
    "    print(\"Ba cạnh\", a, b, c, \"tạo thành một tam giác.\")\n",
    "else:\n",
    "    print(\"Ba cạnh\", a, b, c, \"không tạo thành tam giác.\")\n",
    "\n",
    "# Cách 2: nếu muốn dùng sắp xếp\n",
    "sides = sorted([a, b, c])   # sắp xếp tăng dần\n",
    "if sides[0] + sides[1] > sides[2]:\n",
    "    print(\"Theo cách sắp xếp: Đây là tam giác.\")\n",
    "else:\n",
    "    print(\"Theo cách sắp xếp: Không phải tam giác.\")"
   ]
  },
  {
   "cell_type": "markdown",
   "id": "27c8c130-de66-4619-b4e8-eb5e5f6fdfff",
   "metadata": {},
   "source": [
    "## CẤU TRÚC LẶP VÀ LIST"
   ]
  },
  {
   "cell_type": "markdown",
   "id": "8d4e6e82-e3ea-46ce-ae53-14e43621ea8a",
   "metadata": {},
   "source": [
    "### 1. Cho một danh sách bao gồm các chuỗi chứa các chữ số. \n",
    "Ví dụ: A = [‘3’, ‘27’,’5’,’123’,’9’,’1’]\n"
   ]
  },
  {
   "cell_type": "code",
   "execution_count": 9,
   "id": "c6de7523-2f74-4502-8910-0a691bce7384",
   "metadata": {},
   "outputs": [
    {
     "name": "stdout",
     "output_type": "stream",
     "text": [
      "Danh sách gốc: ['3', '27', '5', '123', '9', '1']\n",
      "String compare: ['1', '123', '27', '3', '5', '9']\n",
      "Integer compare: ['1', '3', '5', '9', '27', '123']\n"
     ]
    }
   ],
   "source": [
    "def sort_strings(A):\n",
    "    # Sắp xếp theo string compare (theo từ điển)\n",
    "    string_sorted = sorted(A, key=str)\n",
    "    # Sắp xếp theo integer compare (chuyển sang số nguyên để so sánh)\n",
    "    integer_sorted = sorted(A, key=int)\n",
    "    \n",
    "    return string_sorted, integer_sorted\n",
    "A = ['3', '27', '5', '123', '9', '1']\n",
    "string_sorted, integer_sorted = sort_strings(A)\n",
    "print(\"Danh sách gốc:\", A)\n",
    "print(\"String compare:\", string_sorted)\n",
    "print(\"Integer compare:\", integer_sorted)"
   ]
  },
  {
   "cell_type": "markdown",
   "id": "e19eecb8-901b-434f-99d4-2601ea8a87bb",
   "metadata": {},
   "source": [
    "### 2. Viết chương trình in list sau khi đã xóa số tại vị trí thứ 1, thứ 2, thứ 3, thứ 6 trong [12,24,35,70,88,120,155]"
   ]
  },
  {
   "cell_type": "code",
   "execution_count": 10,
   "id": "a67033d8-d4ab-4711-b126-879a0ae89f51",
   "metadata": {},
   "outputs": [
    {
     "name": "stdout",
     "output_type": "stream",
     "text": [
      "Danh sách sau khi xóa: [12, 88, 120]\n"
     ]
    }
   ],
   "source": [
    "# Danh sách ban đầu\n",
    "A = [12, 24, 35, 70, 88, 120, 155]\n",
    "# Các vị trí cần xóa\n",
    "remove_index = {1, 2, 3, 6}\n",
    "# Dùng list comprehension + enumerate để lọc\n",
    "result = [value for index, value in enumerate(A) if index not in remove_index]\n",
    "print(\"Danh sách sau khi xóa:\", result)"
   ]
  },
  {
   "cell_type": "code",
   "execution_count": null,
   "id": "0ff84870-661c-4cb2-b465-09ed28850a3e",
   "metadata": {},
   "outputs": [],
   "source": [
    "def getfv(pv, r, n):\n",
    "    fv = pv * ((1 + (r)) ** n)\n",
    "    return fv\n",
    "fv = getfv(100, 0.1, 7)\n",
    "print(round(fv, 2))"
   ]
  }
 ],
 "metadata": {
  "kernelspec": {
   "display_name": "Python 3 (ipykernel)",
   "language": "python",
   "name": "python3"
  },
  "language_info": {
   "codemirror_mode": {
    "name": "ipython",
    "version": 3
   },
   "file_extension": ".py",
   "mimetype": "text/x-python",
   "name": "python",
   "nbconvert_exporter": "python",
   "pygments_lexer": "ipython3",
   "version": "3.12.1"
  }
 },
 "nbformat": 4,
 "nbformat_minor": 5
}
