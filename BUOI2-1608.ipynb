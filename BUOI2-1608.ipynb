{
 "cells": [
  {
   "cell_type": "markdown",
   "id": "3000c199-6cd9-41cd-8c7a-60d3aa1ebc59",
   "metadata": {},
   "source": [
    "# Kỹ thuật lập trình Python và Stata"
   ]
  },
  {
   "cell_type": "code",
   "execution_count": 1,
   "id": "da66f441-ce38-4555-8b43-37a92f13778b",
   "metadata": {},
   "outputs": [
    {
     "name": "stdout",
     "output_type": "stream",
     "text": [
      "Hello World\n"
     ]
    }
   ],
   "source": [
    "print(\"Hello World\")"
   ]
  },
  {
   "cell_type": "markdown",
   "id": "16a05978-99fc-4e4d-903e-9f81af166c1d",
   "metadata": {},
   "source": [
    "## Python Syntax"
   ]
  },
  {
   "cell_type": "code",
   "execution_count": 2,
   "id": "eebcc4a9-eaed-417b-a029-a1d0fb028625",
   "metadata": {},
   "outputs": [
    {
     "name": "stdout",
     "output_type": "stream",
     "text": [
      "Pass\n"
     ]
    }
   ],
   "source": [
    "score = 80\n",
    "if score >=60 :\n",
    "    print(\"Pass\")"
   ]
  },
  {
   "cell_type": "markdown",
   "id": "739c6305-a2b4-4645-86d7-f4faf1c7a814",
   "metadata": {},
   "source": [
    "### Python Variables"
   ]
  },
  {
   "cell_type": "code",
   "execution_count": 3,
   "id": "3ce6f56a-eda6-4dce-8aac-e1bb7d76d72b",
   "metadata": {},
   "outputs": [
    {
     "name": "stdout",
     "output_type": "stream",
     "text": [
      "x = 2\n",
      "price = 2.5\n",
      "word = Hello\n"
     ]
    }
   ],
   "source": [
    "# Python Variables\n",
    "x = 2\n",
    "price = 2.5\n",
    "word = 'Hello'\n",
    "word = 'Hello'\n",
    "word = \"Hello\"\n",
    "word = '''Hello'''\n",
    "print(\"x =\", x)\n",
    "print(\"price =\", price)\n",
    "print(\"word =\", word)"
   ]
  },
  {
   "cell_type": "markdown",
   "id": "3a11922d-d428-473e-bff6-ce06c0917b93",
   "metadata": {},
   "source": [
    "### Python Data Types"
   ]
  },
  {
   "cell_type": "code",
   "execution_count": 4,
   "id": "5674520f-0162-49fe-9158-05b30d05b3bb",
   "metadata": {},
   "outputs": [
    {
     "name": "stdout",
     "output_type": "stream",
     "text": [
      "Hello World <class 'str'>\n",
      "2 <class 'int'>\n",
      "2.5 <class 'float'>\n",
      "7j <class 'complex'>\n"
     ]
    }
   ],
   "source": [
    "# Khai báo các biến với các kiểu dữ liệu khác nhau\n",
    "x = \"Hello World\"  # str (chuỗi)\n",
    "print(x, type(x))\n",
    "x = 2              # int (số nguyên)\n",
    "print(x, type(x))\n",
    "x = 2.5            # float (số thực)\n",
    "print(x, type(x))\n",
    "x = 7j             # complex (số phức, j là phần ảo)\n",
    "print(x, type(x))\n"
   ]
  },
  {
   "cell_type": "code",
   "execution_count": 5,
   "id": "f44c8642-c99c-4d6f-a623-8e9bc39a9059",
   "metadata": {},
   "outputs": [
    {
     "name": "stdout",
     "output_type": "stream",
     "text": [
      "['apple', 'banana', 'cherry'] <class 'list'>\n",
      "('apple', 'banana', 'cherry') <class 'tuple'>\n",
      "[0, 1, 2, 3, 4, 5] <class 'range'>\n",
      "{'name': 'Tom', 'age': 20} <class 'dict'>\n",
      "{'banana', 'apple', 'cherry'} <class 'set'>\n",
      "frozenset({'banana', 'apple', 'cherry'}) <class 'frozenset'>\n"
     ]
    }
   ],
   "source": [
    "# Các kiểu dữ liệu phức hợp trong Python\n",
    "x = [\"apple\", \"banana\", \"cherry\"]       # list: danh sách có thể thay đổi (mutable)\n",
    "print(x, type(x))\n",
    "x = (\"apple\", \"banana\", \"cherry\")       # tuple: bộ dữ liệu không thay đổi (immutable)\n",
    "print(x, type(x))\n",
    "x = range(6)                             # range: dãy số từ 0 đến 5\n",
    "print(list(x), type(x))                  # thường chuyển sang list để in ra đầy đủ\n",
    "x = {\"name\": \"Tom\", \"age\": 20}           # dict: từ điển key-value\n",
    "print(x, type(x))\n",
    "x = {\"apple\", \"banana\", \"cherry\"}        # set: tập hợp không trùng lặp, không theo thứ tự\n",
    "print(x, type(x))\n",
    "x = frozenset({\"apple\", \"banana\", \"cherry\"})  # frozenset: tập hợp bất biến (immutable set)\n",
    "print(x, type(x))"
   ]
  },
  {
   "cell_type": "code",
   "execution_count": 6,
   "id": "ed620b03-1926-43e5-9026-c31ee0375b41",
   "metadata": {},
   "outputs": [
    {
     "name": "stdout",
     "output_type": "stream",
     "text": [
      "True <class 'bool'>\n",
      "b'Hello' <class 'bytes'>\n",
      "bytearray(b'\\x00\\x00\\x00\\x00\\x00') <class 'bytearray'>\n",
      "<memory at 0x735b503f3ac0> <class 'memoryview'>\n",
      "None <class 'NoneType'>\n"
     ]
    }
   ],
   "source": [
    "# Các kiểu dữ liệu đặc biệt trong Python\n",
    "\n",
    "x = True                      # bool: kiểu logic (True/False)\n",
    "print(x, type(x))\n",
    "\n",
    "x = b\"Hello\"                   # bytes: chuỗi byte (immutable)\n",
    "print(x, type(x))\n",
    "\n",
    "x = bytearray(5)               # bytearray: mảng byte có thể thay đổi (mutable)\n",
    "print(x, type(x))\n",
    "\n",
    "x = memoryview(bytes(5))       # memoryview: tham chiếu đến dữ liệu nhị phân, không sao chép\n",
    "print(x, type(x))\n",
    "\n",
    "x = None                       # NoneType: đại diện cho giá trị rỗng hoặc không có\n",
    "print(x, type(x))\n"
   ]
  },
  {
   "cell_type": "code",
   "execution_count": 7,
   "id": "66d027e2-3bd9-4b50-9939-4e659e8d9569",
   "metadata": {},
   "outputs": [
    {
     "name": "stdout",
     "output_type": "stream",
     "text": [
      "3 <class 'str'>\n",
      "3 <class 'int'>\n",
      "3.0 <class 'float'>\n"
     ]
    }
   ],
   "source": [
    "x = str(3) # x will be '3'\n",
    "y = int(3) # y will be 3\n",
    "z = float(3) # z will be 3.0\n",
    "print(x, type(x))\n",
    "print(y, type(y))\n",
    "print(z, type(z))"
   ]
  },
  {
   "cell_type": "markdown",
   "id": "d4147234-a16e-4d6c-9654-052341f15172",
   "metadata": {},
   "source": [
    "### Python Numbers"
   ]
  },
  {
   "cell_type": "code",
   "execution_count": 8,
   "id": "498f3109-7f65-4c8a-b652-6c4d20c91803",
   "metadata": {},
   "outputs": [
    {
     "name": "stdout",
     "output_type": "stream",
     "text": [
      "2 <class 'int'>\n",
      "3.4 <class 'float'>\n",
      "7j <class 'complex'>\n"
     ]
    }
   ],
   "source": [
    "x = 2 # int\n",
    "y = 3.4 # float\n",
    "z = 7j #complex\n",
    "print(x, type(x))\n",
    "print(y, type(y))\n",
    "print(z, type(z))"
   ]
  },
  {
   "cell_type": "markdown",
   "id": "b1812613-176a-4568-bc14-e14a7a324278",
   "metadata": {},
   "source": [
    "### Python Arithmetic Operators"
   ]
  },
  {
   "cell_type": "code",
   "execution_count": 9,
   "id": "9f674a41-cf21-40d1-99d2-98c97fd65991",
   "metadata": {},
   "outputs": [
    {
     "name": "stdout",
     "output_type": "stream",
     "text": [
      "a + b = 9\n",
      "a - b = 5\n",
      "a * b = 14\n",
      "a / b = 3.5\n",
      "a // b = 3\n",
      "a % b = 1\n",
      "a ** b = 49\n"
     ]
    }
   ],
   "source": [
    "# Các toán tử số học trong Python\n",
    "\n",
    "a = 7\n",
    "b = 2\n",
    "\n",
    "print(\"a + b =\", a + b)     # +  : Addition (Cộng)             -> 7 + 2 = 9\n",
    "print(\"a - b =\", a - b)     # -  : Subtraction (Trừ)           -> 7 - 2 = 5\n",
    "print(\"a * b =\", a * b)     # *  : Multiplication (Nhân)       -> 7 * 2 = 14\n",
    "print(\"a / b =\", a / b)     # /  : Division (Chia)             -> 7 / 2 = 3.5\n",
    "print(\"a // b =\", a // b)   # // : Floor Division (Chia lấy phần nguyên) -> 7 // 2 = 3\n",
    "print(\"a % b =\", a % b)     # %  : Modulus (Chia lấy phần dư)  -> 7 % 2 = 1\n",
    "print(\"a ** b =\", a ** b)   # ** : Exponentiation (Lũy thừa)  -> 7 ** 2 = 49\n"
   ]
  },
  {
   "cell_type": "markdown",
   "id": "460a5d22-9eba-4b39-a939-4174af1b39c2",
   "metadata": {},
   "source": [
    "### Python Booleans: True or False"
   ]
  },
  {
   "cell_type": "code",
   "execution_count": 10,
   "id": "1badddaf-8b8a-4069-a84e-76a282d9a3b9",
   "metadata": {},
   "outputs": [
    {
     "name": "stdout",
     "output_type": "stream",
     "text": [
      "True\n",
      "False\n",
      "False\n"
     ]
    }
   ],
   "source": [
    "print(3 > 2)\n",
    "print(3 == 2)\n",
    "print(3 < 2)"
   ]
  },
  {
   "cell_type": "code",
   "execution_count": 11,
   "id": "efed8bb6-6b62-4fcb-96b6-2dbef9284b85",
   "metadata": {},
   "outputs": [
    {
     "name": "stdout",
     "output_type": "stream",
     "text": [
      "Your BMI is: 20.76\n"
     ]
    }
   ],
   "source": [
    "# Khai báo biến\n",
    "height_cm = 170        # chiều cao tính bằng cm\n",
    "weight_kg = 60         # cân nặng tính bằng kg\n",
    "# Chuyển chiều cao sang mét\n",
    "height_m = height_cm / 100\n",
    "# Tính BMI\n",
    "BMI = weight_kg / (height_m ** 2)\n",
    "print(\"Your BMI is: \" + str(round(BMI, 2)))"
   ]
  },
  {
   "cell_type": "code",
   "execution_count": 12,
   "id": "2d8f57bd-15d3-4077-823a-972297c9a930",
   "metadata": {},
   "outputs": [
    {
     "name": "stdout",
     "output_type": "stream",
     "text": [
      "fv =  194.87\n"
     ]
    }
   ],
   "source": [
    "# How much is your $100 worth after 7 years?\n",
    "fv = 100 * 1.1 ** 7\n",
    "print('fv = ', round(fv, 2))"
   ]
  },
  {
   "cell_type": "code",
   "execution_count": 13,
   "id": "3196995a-ed7d-470d-8275-11b898095cae",
   "metadata": {},
   "outputs": [
    {
     "ename": "KeyboardInterrupt",
     "evalue": "Interrupted by user",
     "output_type": "error",
     "traceback": [
      "\u001b[31m---------------------------------------------------------------------------\u001b[39m",
      "\u001b[31mKeyboardInterrupt\u001b[39m                         Traceback (most recent call last)",
      "\u001b[36mCell\u001b[39m\u001b[36m \u001b[39m\u001b[32mIn[13]\u001b[39m\u001b[32m, line 1\u001b[39m\n\u001b[32m----> \u001b[39m\u001b[32m1\u001b[39m pv = \u001b[38;5;28mfloat\u001b[39m(\u001b[38;5;28;43minput\u001b[39;49m\u001b[43m(\u001b[49m\u001b[33;43m\"\u001b[39;49m\u001b[33;43mNhập số thực pv: \u001b[39;49m\u001b[33;43m\"\u001b[39;49m\u001b[43m)\u001b[49m)\n\u001b[32m      2\u001b[39m r = \u001b[38;5;28mfloat\u001b[39m(\u001b[38;5;28minput\u001b[39m(\u001b[33m\"\u001b[39m\u001b[33mNhập số thực r: \u001b[39m\u001b[33m\"\u001b[39m))\n\u001b[32m      3\u001b[39m n = \u001b[38;5;28mfloat\u001b[39m(\u001b[38;5;28minput\u001b[39m(\u001b[33m\"\u001b[39m\u001b[33mNhập số thực n: \u001b[39m\u001b[33m\"\u001b[39m))\n",
      "\u001b[36mFile \u001b[39m\u001b[32m~/.local/lib/python3.12/site-packages/ipykernel/kernelbase.py:1282\u001b[39m, in \u001b[36mKernel.raw_input\u001b[39m\u001b[34m(self, prompt)\u001b[39m\n\u001b[32m   1280\u001b[39m     msg = \u001b[33m\"\u001b[39m\u001b[33mraw_input was called, but this frontend does not support input requests.\u001b[39m\u001b[33m\"\u001b[39m\n\u001b[32m   1281\u001b[39m     \u001b[38;5;28;01mraise\u001b[39;00m StdinNotImplementedError(msg)\n\u001b[32m-> \u001b[39m\u001b[32m1282\u001b[39m \u001b[38;5;28;01mreturn\u001b[39;00m \u001b[38;5;28;43mself\u001b[39;49m\u001b[43m.\u001b[49m\u001b[43m_input_request\u001b[49m\u001b[43m(\u001b[49m\n\u001b[32m   1283\u001b[39m \u001b[43m    \u001b[49m\u001b[38;5;28;43mstr\u001b[39;49m\u001b[43m(\u001b[49m\u001b[43mprompt\u001b[49m\u001b[43m)\u001b[49m\u001b[43m,\u001b[49m\n\u001b[32m   1284\u001b[39m \u001b[43m    \u001b[49m\u001b[38;5;28;43mself\u001b[39;49m\u001b[43m.\u001b[49m\u001b[43m_parent_ident\u001b[49m\u001b[43m[\u001b[49m\u001b[33;43m\"\u001b[39;49m\u001b[33;43mshell\u001b[39;49m\u001b[33;43m\"\u001b[39;49m\u001b[43m]\u001b[49m\u001b[43m,\u001b[49m\n\u001b[32m   1285\u001b[39m \u001b[43m    \u001b[49m\u001b[38;5;28;43mself\u001b[39;49m\u001b[43m.\u001b[49m\u001b[43mget_parent\u001b[49m\u001b[43m(\u001b[49m\u001b[33;43m\"\u001b[39;49m\u001b[33;43mshell\u001b[39;49m\u001b[33;43m\"\u001b[39;49m\u001b[43m)\u001b[49m\u001b[43m,\u001b[49m\n\u001b[32m   1286\u001b[39m \u001b[43m    \u001b[49m\u001b[43mpassword\u001b[49m\u001b[43m=\u001b[49m\u001b[38;5;28;43;01mFalse\u001b[39;49;00m\u001b[43m,\u001b[49m\n\u001b[32m   1287\u001b[39m \u001b[43m\u001b[49m\u001b[43m)\u001b[49m\n",
      "\u001b[36mFile \u001b[39m\u001b[32m~/.local/lib/python3.12/site-packages/ipykernel/kernelbase.py:1325\u001b[39m, in \u001b[36mKernel._input_request\u001b[39m\u001b[34m(self, prompt, ident, parent, password)\u001b[39m\n\u001b[32m   1322\u001b[39m \u001b[38;5;28;01mexcept\u001b[39;00m \u001b[38;5;167;01mKeyboardInterrupt\u001b[39;00m:\n\u001b[32m   1323\u001b[39m     \u001b[38;5;66;03m# re-raise KeyboardInterrupt, to truncate traceback\u001b[39;00m\n\u001b[32m   1324\u001b[39m     msg = \u001b[33m\"\u001b[39m\u001b[33mInterrupted by user\u001b[39m\u001b[33m\"\u001b[39m\n\u001b[32m-> \u001b[39m\u001b[32m1325\u001b[39m     \u001b[38;5;28;01mraise\u001b[39;00m \u001b[38;5;167;01mKeyboardInterrupt\u001b[39;00m(msg) \u001b[38;5;28;01mfrom\u001b[39;00m\u001b[38;5;250m \u001b[39m\u001b[38;5;28;01mNone\u001b[39;00m\n\u001b[32m   1326\u001b[39m \u001b[38;5;28;01mexcept\u001b[39;00m \u001b[38;5;167;01mException\u001b[39;00m:\n\u001b[32m   1327\u001b[39m     \u001b[38;5;28mself\u001b[39m.log.warning(\u001b[33m\"\u001b[39m\u001b[33mInvalid Message:\u001b[39m\u001b[33m\"\u001b[39m, exc_info=\u001b[38;5;28;01mTrue\u001b[39;00m)\n",
      "\u001b[31mKeyboardInterrupt\u001b[39m: Interrupted by user"
     ]
    }
   ],
   "source": [
    "pv = float(input(\"Nhập số thực pv: \"))\n",
    "r = float(input(\"Nhập số thực r: \"))\n",
    "n = float(input(\"Nhập số thực n: \"))\n",
    "fv = pv * ((1 + (r)) ** n)\n",
    "print('fv = ', round(fv, 2))"
   ]
  },
  {
   "cell_type": "markdown",
   "id": "53c01b57-8653-4148-a23e-5b05d514b991",
   "metadata": {},
   "source": [
    "## Python Data Structures"
   ]
  },
  {
   "cell_type": "markdown",
   "id": "a125d0cb-1e88-410b-bb69-f977691bad8f",
   "metadata": {},
   "source": [
    "### Python Data Types"
   ]
  },
  {
   "cell_type": "code",
   "execution_count": null,
   "id": "cd5c4db3-6dea-4d1e-938a-0f12737ba499",
   "metadata": {},
   "outputs": [],
   "source": [
    "# 1. List: danh sách có thể thay đổi (mutable)\n",
    "x = [\"apple\", \"banana\", \"cherry\"]\n",
    "print(\"List:\", x, type(x))\n",
    "\n",
    "# 2. Tuple: bộ dữ liệu không thay đổi (immutable)\n",
    "x = (\"apple\", \"banana\", \"cherry\")\n",
    "print(\"Tuple:\", x, type(x))\n",
    "\n",
    "# 3. Dict: từ điển lưu trữ cặp key-value\n",
    "x = {\"name\": \"Tom\", \"age\": 20}\n",
    "print(\"Dict:\", x, type(x))\n",
    "\n",
    "# 4. Set: tập hợp các phần tử duy nhất, không theo thứ tự\n",
    "x = {\"apple\", \"banana\", \"cherry\"}\n",
    "print(\"Set:\", x, type(x))\n"
   ]
  },
  {
   "cell_type": "markdown",
   "id": "bc31571f-c58e-4585-84e5-8ebccc345884",
   "metadata": {},
   "source": [
    "### Lists []"
   ]
  },
  {
   "cell_type": "code",
   "execution_count": null,
   "id": "cf184857-1e0a-4976-96ed-479b6387021d",
   "metadata": {},
   "outputs": [],
   "source": [
    "x = [60, 70, 80, 90]  # Khai báo list gồm 4 phần tử\n",
    "print(len(x))          # len(x) trả về số phần tử trong list -> 4\n",
    "print(x[0])            # Lấy phần tử đầu tiên (index 0) -> 60\n",
    "print(x[1])            # Lấy phần tử thứ hai (index 1) -> 70\n",
    "print(x[-1])           # Lấy phần tử cuối cùng (index -1) -> 90"
   ]
  },
  {
   "cell_type": "code",
   "execution_count": null,
   "id": "e71e7c9a-adc2-4077-a7bc-dc00d111c8fb",
   "metadata": {},
   "outputs": [],
   "source": [
    "# List Methods in Python\n",
    "# append()      : Thêm một phần tử vào cuối danh sách\n",
    "# clear()       : Xóa tất cả các phần tử trong danh sách\n",
    "# copy()        : Trả về một bản sao của danh sách\n",
    "# count()       : Trả về số lượng phần tử có giá trị nhất định\n",
    "# extend()      : Thêm các phần tử của một list (hoặc iterable khác) vào cuối danh sách hiện tại\n",
    "# index()       : Trả về chỉ số của phần tử đầu tiên có giá trị nhất định\n",
    "# insert()      : Thêm một phần tử vào vị trí chỉ định\n",
    "# pop()         : Xóa phần tử ở vị trí chỉ định và trả về nó\n",
    "# remove()      : Xóa phần tử có giá trị chỉ định\n",
    "# reverse()     : Đảo ngược thứ tự các phần tử trong danh sách\n",
    "# sort()        : Sắp xếp danh sách theo thứ tự tăng dần (mặc định)"
   ]
  },
  {
   "cell_type": "markdown",
   "id": "38959459-a5f6-4104-99dc-bfdfaa5db3cc",
   "metadata": {},
   "source": [
    "### Tuples ()\n",
    "A tuple in Python is a collection that cannot be modified.\n",
    "A tuple is defined using parenthesis."
   ]
  },
  {
   "cell_type": "code",
   "execution_count": null,
   "id": "54510760-cbeb-45a5-b551-5265671a0f41",
   "metadata": {},
   "outputs": [],
   "source": [
    "x = (10, 20, 30, 40, 50)\n",
    "print(x[0])\n",
    "print(x[1])\n",
    "print(x[2])\n",
    "print(x[-1])"
   ]
  },
  {
   "cell_type": "markdown",
   "id": "a90b0aad-f3b1-42ed-8012-c8260ab61f53",
   "metadata": {},
   "source": [
    "### Sets {}\n"
   ]
  },
  {
   "cell_type": "code",
   "execution_count": null,
   "id": "1ff9bf3b-cbdd-4674-a465-bdd9c1779247",
   "metadata": {},
   "outputs": [],
   "source": [
    "# Khai báo một set gồm 2 phần tử\n",
    "animals = {'cat', 'dog'}\n",
    "\n",
    "# Kiểm tra xem 'cat' có trong set không -> True\n",
    "print('cat' in animals)\n",
    "\n",
    "# Kiểm tra xem 'fish' có trong set không -> False\n",
    "print('fish' in animals)\n",
    "\n",
    "# Thêm phần tử 'fish' vào set\n",
    "animals.add('fish')\n",
    "\n",
    "# Kiểm tra lại 'fish' trong set -> True\n",
    "print('fish' in animals)\n",
    "\n",
    "# Số lượng phần tử hiện tại trong set -> 3\n",
    "print(len(animals))\n",
    "\n",
    "# Thêm 'cat' vào set, nhưng 'cat' đã có trong set nên không thay đổi\n",
    "animals.add('cat')\n",
    "print(len(animals))  # Vẫn là 3\n",
    "\n",
    "# Xóa phần tử 'cat' khỏi set\n",
    "animals.remove('cat')\n",
    "\n",
    "# Số lượng phần tử còn lại trong set -> 2\n",
    "print(len(animals))"
   ]
  },
  {
   "cell_type": "markdown",
   "id": "211682bf-67f7-4544-bbbb-75910f23f743",
   "metadata": {},
   "source": [
    "### Dictionary {key : value}"
   ]
  },
  {
   "cell_type": "code",
   "execution_count": null,
   "id": "fdd09b49-6b81-4e1b-947b-372fa859a9db",
   "metadata": {},
   "outputs": [],
   "source": [
    "# Khai báo một dictionary với key-value\n",
    "k = { 'EN': 'English','FR': 'French'}\n",
    "# Truy xuất giá trị theo key 'EN'\n",
    "print(k['EN'])  # Kết quả: English"
   ]
  },
  {
   "cell_type": "code",
   "execution_count": null,
   "id": "8c306516-b5a9-4934-8ba0-72c6c374181d",
   "metadata": {},
   "outputs": [],
   "source": [
    "# Khai báo các kiểu dữ liệu phức hợp trong Python\n",
    "\n",
    "fruits = [\"apple\", \"banana\", \"cherry\"]  # list: danh sách có thể thay đổi, dùng dấu ngoặc []\n",
    "print(\"List:\", fruits, type(fruits))\n",
    "\n",
    "colors = (\"red\", \"green\", \"blue\")       # tuple: bộ dữ liệu không thay đổi, dùng dấu ngoặc ()\n",
    "print(\"Tuple:\", colors, type(colors))\n",
    "\n",
    "animals = {'cat', 'dog'}                # set: tập hợp các phần tử duy nhất, không theo thứ tự, dùng {}\n",
    "print(\"Set:\", animals, type(animals))\n",
    "\n",
    "person = {\"name\": \"Tom\", \"age\": 20}     # dict: từ điển lưu trữ key → value, dùng {}\n",
    "print(\"Dictionary:\", person, type(person))\n"
   ]
  },
  {
   "cell_type": "markdown",
   "id": "5bdd3908-e33b-481b-8a84-67499954eab8",
   "metadata": {},
   "source": [
    "## Python for Finance Applications"
   ]
  },
  {
   "cell_type": "code",
   "execution_count": null,
   "id": "d2ec1cc9-3f1e-4bd3-bf7c-d624f524486a",
   "metadata": {},
   "outputs": [],
   "source": [
    "expenses = [72.50, 80.75, 50.00, 90.25]   # List các khoản chi tiêu\n",
    "total_expenses = sum(expenses)            # Tính tổng các phần tử trong list\n",
    "print(\"Total expenses:\", total_expenses)  # In ra tổng chi tiêu"
   ]
  },
  {
   "cell_type": "code",
   "execution_count": null,
   "id": "1beee0d3-3757-45a5-88f1-39d5cc5b5197",
   "metadata": {},
   "outputs": [],
   "source": [
    "# Python Tuples: Tuple lồng nhau\n",
    "accounts = ((\"Cash\", 1001), (\"Accounts Receivable\", 1002), (\"Inventory\", 1003))  # Tuple gồm 3 tuple con\n",
    "\n",
    "# Duyệt từng tuple con trong accounts\n",
    "for account in accounts:\n",
    "    print(\"Account name:\", account[0], \"Account number:\", account[1])  # In tên và số tài khoản\n"
   ]
  },
  {
   "cell_type": "code",
   "execution_count": null,
   "id": "0e8146f2-738f-49e9-8643-4eb24a7fbb8b",
   "metadata": {},
   "outputs": [],
   "source": [
    "# Tạo set các số tài khoản từ tuple accounts\n",
    "account_numbers = set([acc[1] for acc in accounts])  # Lấy phần tử thứ 2 (số tài khoản) từ từng tuple trong accounts và chuyển thành set\n",
    "print(account_numbers)  # In set các số tài khoản hiện có\n",
    "\n",
    "# Kiểm tra số tài khoản mới\n",
    "new_acc_number = 1004\n",
    "if new_acc_number not in account_numbers:  # Nếu số tài khoản chưa có trong set\n",
    "    print(\"Account number\", new_acc_number, \"is not in use.\")  # In thông báo\n"
   ]
  },
  {
   "cell_type": "code",
   "execution_count": null,
   "id": "fb5f4700-7d36-414b-b852-e1bf9704c208",
   "metadata": {},
   "outputs": [],
   "source": [
    "# Python Dictionaries: Thông tin các tài khoản\n",
    "accounts = {\n",
    "    \"1001\": {\"name\": \"Cash\", \"balance\": 500.00, \"type\": \"Asset\"},\n",
    "    \"1002\": {\"name\": \"Accounts Receivable\", \"balance\": 1000.00, \"type\": \"Asset\"},\n",
    "    \"2001\": {\"name\": \"Accounts Payable\", \"balance\": 750.00, \"type\": \"Liability\"}\n",
    "}\n",
    "# Duyệt dict và in thông tin từng tài khoản\n",
    "for acc_num, acc_info in accounts.items():\n",
    "    print('-' * 50)                             # In dòng gạch ngang để phân tách\n",
    "    print(\"Account number:\", acc_num)           # Sử dụng acc_num thay cho account_number\n",
    "    print(\"Account name:\", acc_info[\"name\"])   # Truy xuất giá trị name\n",
    "    print(\"Account balance:\", acc_info[\"balance\"])  # Truy xuất giá trị balance\n",
    "    print(\"Account type:\", acc_info[\"type\"])   # Truy xuất giá trị type\n"
   ]
  },
  {
   "cell_type": "markdown",
   "id": "33195fca-0684-4d32-bffc-83bf32a197cc",
   "metadata": {},
   "source": [
    "## Python Control Logic and Loops"
   ]
  },
  {
   "cell_type": "code",
   "execution_count": null,
   "id": "b0857921-f627-47e7-9260-06b6933c3b69",
   "metadata": {},
   "outputs": [],
   "source": [
    "# Python if\n",
    "score = 80\n",
    "if score >=60 :\n",
    "    print(\"Pass\")\n",
    "else:\n",
    "    print(\"Fail\")"
   ]
  },
  {
   "cell_type": "code",
   "execution_count": null,
   "id": "c40b8348-547d-4140-aa3a-27341ffd30ea",
   "metadata": {},
   "outputs": [],
   "source": [
    "score = 95  # Điểm số của học sinh\n",
    "\n",
    "if score >= 90:                  # Nếu điểm >= 90\n",
    "    print(\"A\")                   # Xếp loại A\n",
    "elif score >= 60:                # Nếu điểm >= 60 và < 90\n",
    "    print(\"Pass\")                # Xếp loại Pass\n",
    "else:                            # Nếu điểm < 60\n",
    "    print(\"Fail\")                # Xếp loại Fail\n"
   ]
  },
  {
   "cell_type": "code",
   "execution_count": null,
   "id": "4222b255-b709-42a8-b129-68a9b5425ac9",
   "metadata": {},
   "outputs": [],
   "source": [
    "score = int(input(\"Nhập score: \")) \n",
    "grade = \"\"\n",
    "if score >=90:\n",
    "    grade = \"A\"\n",
    "elif score >= 80:\n",
    "    grade = \"B\"\n",
    "elif score >= 70:\n",
    "    grade = \"C\"\n",
    "elif score >= 60:\n",
    "    grade = \"D\"\n",
    "else:\n",
    "    grade = \"E\"\n",
    "print(grade)"
   ]
  },
  {
   "cell_type": "code",
   "execution_count": null,
   "id": "bb59545a-faba-4315-8cc2-d058ab1ac3f3",
   "metadata": {},
   "outputs": [],
   "source": [
    "# for loops\n",
    "for i in range(1,10):\n",
    "    for j in range(1,10):\n",
    "        print(f\"{i} * {j} = {i*j}\")\n",
    "    print ( ' -' *50)"
   ]
  },
  {
   "cell_type": "code",
   "execution_count": 14,
   "id": "ecea1f0e-d170-4f63-999a-ba326dce9b62",
   "metadata": {},
   "outputs": [
    {
     "name": "stdout",
     "output_type": "stream",
     "text": [
      "10\n",
      "11\n",
      "12\n",
      "13\n",
      "14\n",
      "15\n",
      "16\n",
      "17\n",
      "18\n",
      "19\n"
     ]
    }
   ],
   "source": [
    "age = 10\n",
    "while age < 20: \n",
    "    print(age)\n",
    "    age = age + 1"
   ]
  },
  {
   "cell_type": "markdown",
   "id": "4c0b8df8-eed6-4cc9-8def-e16d5b7b4621",
   "metadata": {},
   "source": [
    "## Python Functions"
   ]
  },
  {
   "cell_type": "code",
   "execution_count": 15,
   "id": "02e7153d-692e-4a33-b485-aa174988be2a",
   "metadata": {},
   "outputs": [
    {
     "name": "stdout",
     "output_type": "stream",
     "text": [
      "194.87\n"
     ]
    }
   ],
   "source": [
    "def getfv(pv, r, n):\n",
    "    fv = pv * ((1 + (r)) ** n)\n",
    "    return fv\n",
    "fv = getfv(100, 0.1, 7)\n",
    "print(round(fv, 2))"
   ]
  },
  {
   "cell_type": "code",
   "execution_count": 1,
   "id": "e94ea989-d499-46d5-97a7-ba263a4e4af9",
   "metadata": {},
   "outputs": [
    {
     "name": "stdout",
     "output_type": "stream",
     "text": [
      "5\n"
     ]
    }
   ],
   "source": [
    "# Python class\n",
    "class MyClass:\n",
    "    x = 5   # thuộc tính (class attribute)\n",
    "# tạo đối tượng từ class\n",
    "c1 = MyClass()\n",
    "print(c1.x)\n"
   ]
  },
  {
   "cell_type": "markdown",
   "id": "e336d61f-ece3-4857-b5d4-005608d9e604",
   "metadata": {},
   "source": [
    "## Python Classes and Objects"
   ]
  },
  {
   "cell_type": "code",
   "execution_count": 18,
   "id": "c6432446-7388-41b3-8785-d3800e1c2e28",
   "metadata": {},
   "outputs": [
    {
     "name": "stdout",
     "output_type": "stream",
     "text": [
      "Alan\n",
      "20\n"
     ]
    }
   ],
   "source": [
    "class Person:\n",
    "    def __init__(self, name, age):   # constructor (hàm khởi tạo)\n",
    "        self.name = name             # thuộc tính name\n",
    "        self.age = age               # thuộc tính age\n",
    "\n",
    "# tạo object (đối tượng)\n",
    "p1 = Person(\"Alan\", 20)\n",
    "\n",
    "# in ra thuộc tính\n",
    "print(p1.name)\n",
    "print(p1.age)\n"
   ]
  },
  {
   "cell_type": "code",
   "execution_count": 19,
   "id": "5a688ae2-cc79-4b91-b230-9532fcb8f9b6",
   "metadata": {},
   "outputs": [
    {
     "name": "stdout",
     "output_type": "stream",
     "text": [
      "Hello my name is Alan\n"
     ]
    }
   ],
   "source": [
    "class Person:\n",
    "    def __init__(self, name, age):   # Hàm khởi tạo\n",
    "        self.name = name\n",
    "        self.age = age\n",
    "\n",
    "    def myfunc(self):                # Hàm tự định nghĩa\n",
    "        print(\"Hello my name is \" + self.name)\n",
    "\n",
    "# Tạo đối tượng p1\n",
    "p1 = Person(\"Alan\", 20)\n",
    "p1.myfunc()\n"
   ]
  },
  {
   "cell_type": "code",
   "execution_count": 4,
   "id": "05995677-cccd-4313-838e-9e030e6627f0",
   "metadata": {},
   "outputs": [
    {
     "name": "stdout",
     "output_type": "stream",
     "text": [
      "Fer is a red convertible worth $60000.00.\n",
      "Fer\n",
      "Jump is a blue van worth $10000.00.\n",
      "Jump\n"
     ]
    }
   ],
   "source": [
    "# Định nghĩa class Vehicle\n",
    "class Vehicle:\n",
    "    name = \"\"\n",
    "    kind = \"car\"\n",
    "    color = \"\"\n",
    "    value = 100.00\n",
    "\n",
    "    def description(self):\n",
    "        desc_str = \"%s is a %s %s worth $%.2f.\" % (self.name, self.color, self.kind, self.value)\n",
    "        return desc_str\n",
    "\n",
    "# Tạo đối tượng car1\n",
    "car1 = Vehicle()\n",
    "car1.name = \"Fer\"\n",
    "car1.color = \"red\"\n",
    "car1.kind = \"convertible\"\n",
    "car1.value = 60000.00\n",
    "\n",
    "# Tạo đối tượng car2\n",
    "car2 = Vehicle()\n",
    "car2.name = \"Jump\"\n",
    "car2.color = \"blue\"\n",
    "car2.kind = \"van\"\n",
    "car2.value = 10000.00\n",
    "\n",
    "# In thông tin\n",
    "print(car1.description())\n",
    "print(car1.name)\n",
    "print(car2.description())\n",
    "print(car2.name)\n"
   ]
  },
  {
   "cell_type": "markdown",
   "id": "999ed977-b332-4271-b260-dc2778232036",
   "metadata": {},
   "source": [
    "## Python Modules"
   ]
  },
  {
   "cell_type": "code",
   "execution_count": 8,
   "id": "b61e2ad9-2842-4309-b80c-9f3a7dd251ab",
   "metadata": {},
   "outputs": [
    {
     "name": "stdout",
     "output_type": "stream",
     "text": [
      "Overwriting mymodule.py\n"
     ]
    }
   ],
   "source": [
    "%%writefile mymodule.py\n",
    "def greeting(name):                  # Định nghĩa hàm greeting với tham số name\n",
    "    print(\"Hello,\", name)            # In ra màn hình chuỗi \"Hello, \" kèm theo tên\n",
    "import mymodule as mm                 # Import module mymodule và đặt tên tắt là mm\n",
    "mm.greeting(\"Alan\")                   # Gọi hàm greeting trong module, truyền vào \"Alan\""
   ]
  },
  {
   "cell_type": "markdown",
   "id": "84737d45-b4e1-4ac6-95de-63ec159a4286",
   "metadata": {},
   "source": [
    "## Read/ Write File"
   ]
  },
  {
   "cell_type": "code",
   "execution_count": 11,
   "id": "a891923a-d5c3-4bba-bddc-3977b1fc0da0",
   "metadata": {},
   "outputs": [
    {
     "name": "stdout",
     "output_type": "stream",
     "text": [
      "Hello World\n",
      "This is Python File Input Output"
     ]
    }
   ],
   "source": [
    "# Mở (hoặc tạo mới) file 'myfile.txt' ở chế độ ghi ('w')\n",
    "with open('myfile.txt', 'w') as file:      # Tạo đối tượng file\n",
    "    file.write(\"Hello World\\nThis is Python File Input Output\")  \n",
    "    # Ghi nội dung vào file, \\n để xuống dòng\n",
    "!cat myfile.txt\n"
   ]
  },
  {
   "cell_type": "code",
   "execution_count": 12,
   "id": "712d1df5-5e69-4adc-99f1-c423c3cdf2eb",
   "metadata": {},
   "outputs": [
    {
     "name": "stdout",
     "output_type": "stream",
     "text": [
      "Hello, Alan\n",
      "Hello, Alan\n"
     ]
    }
   ],
   "source": [
    "import mymodule\n",
    "mymodule.greeting(\"Alan\")"
   ]
  },
  {
   "cell_type": "code",
   "execution_count": 13,
   "id": "7e1d81f0-e87a-4077-82c3-5797ff9ada96",
   "metadata": {},
   "outputs": [
    {
     "name": "stdout",
     "output_type": "stream",
     "text": [
      "Hello World!\n"
     ]
    }
   ],
   "source": [
    "#Python main() function\n",
    "def main():\n",
    "    print(\"Hello World!\")\n",
    "if __name__ == \"__main__\":\n",
    "    main()"
   ]
  },
  {
   "cell_type": "markdown",
   "id": "35fdcd65-91b4-4ace-a002-293d9e533f8a",
   "metadata": {},
   "source": [
    "## Files and Exception Handling"
   ]
  },
  {
   "cell_type": "code",
   "execution_count": 15,
   "id": "ad9597e0-1054-4548-bc92-b2f61e5fed83",
   "metadata": {},
   "outputs": [
    {
     "name": "stdout",
     "output_type": "stream",
     "text": [
      "/workspaces/KTLT-ECO\n"
     ]
    },
    {
     "data": {
      "text/plain": [
       "['Bai2-1608.ipynb',\n",
       " 'ex2_scientific1.txt',\n",
       " 'myfile.txt',\n",
       " 'README.md',\n",
       " '.git',\n",
       " '.gitignore',\n",
       " 'Code1.ipynb',\n",
       " 'mymodule.py',\n",
       " 'ex2_scientific1.html',\n",
       " 'ex4_scientific2.txt',\n",
       " '.ipynb_checkpoints',\n",
       " 'bai01',\n",
       " '__pycache__',\n",
       " 'bai-0809',\n",
       " 'BUOI2-1608.ipynb',\n",
       " 'CodeChapter4-6.ipynb.ipynb']"
      ]
     },
     "execution_count": 15,
     "metadata": {},
     "output_type": "execute_result"
    }
   ],
   "source": [
    "import os\n",
    "cwd = os.getcwd()   # lấy đường dẫn thư mục hiện tại\n",
    "print(cwd)          # in ra đường dẫn\n",
    "os.listdir(cwd)"
   ]
  },
  {
   "cell_type": "code",
   "execution_count": 18,
   "id": "1b628685-3770-406f-9680-5d2cd6a7b370",
   "metadata": {},
   "outputs": [
    {
     "name": "stdout",
     "output_type": "stream",
     "text": [
      "['/workspaces/KTLT-ECO/ex2_scientific1.txt', '/workspaces/KTLT-ECO/myfile.txt', '/workspaces/KTLT-ECO/ex4_scientific2.txt']\n"
     ]
    }
   ],
   "source": [
    "import glob\n",
    "files = glob.glob('/workspaces/KTLT-ECO/*.txt')\n",
    "print(files)\n"
   ]
  },
  {
   "cell_type": "code",
   "execution_count": null,
   "id": "cfd189d4-5fa1-4b42-8ede-96e6a4c9af81",
   "metadata": {},
   "outputs": [],
   "source": []
  }
 ],
 "metadata": {
  "kernelspec": {
   "display_name": "Python 3 (ipykernel)",
   "language": "python",
   "name": "python3"
  },
  "language_info": {
   "codemirror_mode": {
    "name": "ipython",
    "version": 3
   },
   "file_extension": ".py",
   "mimetype": "text/x-python",
   "name": "python",
   "nbconvert_exporter": "python",
   "pygments_lexer": "ipython3",
   "version": "3.12.1"
  }
 },
 "nbformat": 4,
 "nbformat_minor": 5
}
