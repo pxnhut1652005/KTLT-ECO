{
 "cells": [
  {
   "cell_type": "markdown",
   "id": "f7617de9-7de5-4903-aef8-f0e133e79e55",
   "metadata": {},
   "source": [
    "# Data Analytics and Visualization with Python"
   ]
  },
  {
   "cell_type": "markdown",
   "id": "902a6311-56d7-4f3d-8c8e-e9b6f23f9bdb",
   "metadata": {},
   "source": [
    "## Numpy"
   ]
  },
  {
   "cell_type": "code",
   "execution_count": 1,
   "id": "88dcd3cf-c025-4f41-a055-607afebb997c",
   "metadata": {},
   "outputs": [
    {
     "data": {
      "text/plain": [
       "array([ 2,  4,  6,  8, 10])"
      ]
     },
     "execution_count": 1,
     "metadata": {},
     "output_type": "execute_result"
    }
   ],
   "source": [
    "# --- Python list ---\n",
    "v = list(range(1, 6))    # Tạo list [1, 2, 3, 4, 5]\n",
    "v                        # Kết quả: [1, 2, 3, 4, 5]\n",
    "\n",
    "2 * v                    # Nhân list -> lặp lại: [1,2,3,4,5,1,2,3,4,5]\n",
    "\n",
    "\n",
    "# --- NumPy array ---\n",
    "import numpy as np\n",
    "v = np.arange(1, 6)      # Tạo mảng numpy [1 2 3 4 5]\n",
    "v                        # Kết quả: array([1, 2, 3, 4, 5])\n",
    "\n",
    "2 * v                    # Nhân từng phần tử -> array([ 2, 4, 6, 8, 10])\n"
   ]
  },
  {
   "cell_type": "code",
   "execution_count": 2,
   "id": "26895365-fcde-4988-a106-92f2832e7694",
   "metadata": {},
   "outputs": [],
   "source": [
    "fruits = [\"apple\", \"banana\", \"cherry\"] #lists []\n",
    "colors = (\"red\", \"green\", \"blue\") #tuples ()\n",
    "animals = {'cat', 'dog'} #sets {}\n",
    "person = {\"name\" : \"Tom\", \"age\" : 20} #dictionaries {}"
   ]
  },
  {
   "cell_type": "code",
   "execution_count": 3,
   "id": "c03fb689-5f56-47ac-a49b-976c9bc3ba11",
   "metadata": {},
   "outputs": [
    {
     "data": {
      "text/plain": [
       "array([ 4, 10, 18])"
      ]
     },
     "execution_count": 3,
     "metadata": {},
     "output_type": "execute_result"
    }
   ],
   "source": [
    "import numpy as np\n",
    "a = np.array([1, 2, 3])\n",
    "b = np.array([4, 5, 6])\n",
    "c = a * b\n",
    "c"
   ]
  },
  {
   "cell_type": "code",
   "execution_count": 4,
   "id": "3968dd95-4df1-4364-8d96-81351c9b1b3b",
   "metadata": {
    "scrolled": true
   },
   "outputs": [
    {
     "name": "stdout",
     "output_type": "stream",
     "text": [
      "4\n",
      "x[0] = 60\n",
      "70\n",
      "90\n"
     ]
    }
   ],
   "source": [
    "x = [60, 70, 80, 90]   # Tạo list\n",
    "print(len(x))          # In độ dài list -> 4\n",
    "\n",
    "print(\"x[0] =\", x[0])  # In phần tử đầu tiên (cách 1)\n",
    "# hoặc:\n",
    "# print(\"x[0] = \" + str(x[0]))   # Cách 2\n",
    "# print(f\"x[0] = {x[0]}\")        # Cách 3: f-string\n",
    "\n",
    "print(x[1])            # In phần tử thứ 2 -> 70\n",
    "print(x[-1])           # In phần tử cuối -> 90\n"
   ]
  },
  {
   "cell_type": "code",
   "execution_count": 5,
   "id": "3813253e-cfaa-4d69-84bd-1dab21ecb8e9",
   "metadata": {},
   "outputs": [
    {
     "name": "stdout",
     "output_type": "stream",
     "text": [
      "[[0. 0.]\n",
      " [0. 0.]]\n",
      "[[1. 1.]]\n",
      "[[7 7]\n",
      " [7 7]]\n",
      "[[1. 0.]\n",
      " [0. 1.]]\n"
     ]
    }
   ],
   "source": [
    "import numpy as np\n",
    "\n",
    "# Tạo ma trận 2x2 toàn số 0\n",
    "a = np.zeros((2,2))\n",
    "print(a)\n",
    "# Kết quả:\n",
    "# [[0. 0.]\n",
    "#  [0. 0.]]\n",
    "\n",
    "\n",
    "# Tạo ma trận 1x2 toàn số 1\n",
    "b = np.ones((1,2))\n",
    "print(b)\n",
    "# Kết quả:\n",
    "# [[1. 1.]]\n",
    "\n",
    "\n",
    "# Tạo ma trận 2x2 toàn số 7\n",
    "c = np.full((2,2), 7)\n",
    "print(c)\n",
    "# Kết quả:\n",
    "# [[7 7]\n",
    "#  [7 7]]\n",
    "\n",
    "\n",
    "# Tạo ma trận đơn vị 2x2 (identity matrix)\n",
    "d = np.eye(2)\n",
    "print(d)\n",
    "# Kết quả:\n",
    "# [[1. 0.]\n",
    "#  [0. 1.]]"
   ]
  },
  {
   "cell_type": "code",
   "execution_count": 6,
   "id": "53571d9d-5225-4166-a344-47ea71d14c49",
   "metadata": {},
   "outputs": [
    {
     "data": {
      "text/plain": [
       "(3, 5)"
      ]
     },
     "metadata": {},
     "output_type": "display_data"
    },
    {
     "data": {
      "text/plain": [
       "2"
      ]
     },
     "metadata": {},
     "output_type": "display_data"
    },
    {
     "data": {
      "text/plain": [
       "'int64'"
      ]
     },
     "metadata": {},
     "output_type": "display_data"
    }
   ],
   "source": [
    "import numpy as np\n",
    "\n",
    "# Tạo mảng từ 0 → 14 (tổng cộng 15 phần tử),\n",
    "# sau đó reshape thành ma trận 3 hàng, 5 cột\n",
    "a = np.arange(15).reshape(3, 5)\n",
    "\n",
    "display(a.shape)      # Kích thước (3, 5)\n",
    "display(a.ndim)       # Số chiều = 2 (ma trận 2D)\n",
    "display(a.dtype.name) # Kiểu dữ liệu: 'int64' (trên máy 64-bit)\n"
   ]
  },
  {
   "cell_type": "code",
   "execution_count": 7,
   "id": "1ef45c39-debc-4772-92f5-ae65f1a673f3",
   "metadata": {},
   "outputs": [
    {
     "data": {
      "text/plain": [
       "array([[ 0,  1,  2],\n",
       "       [ 3,  4,  5],\n",
       "       [ 6,  7,  8],\n",
       "       [ 9, 10, 11]])"
      ]
     },
     "metadata": {},
     "output_type": "display_data"
    },
    {
     "data": {
      "text/plain": [
       "array([6, 7, 8])"
      ]
     },
     "metadata": {},
     "output_type": "display_data"
    },
    {
     "data": {
      "text/plain": [
       "array([6, 7, 8])"
      ]
     },
     "metadata": {},
     "output_type": "display_data"
    },
    {
     "data": {
      "text/plain": [
       "array([[ 6,  7,  8],\n",
       "       [ 9, 10, 11]])"
      ]
     },
     "metadata": {},
     "output_type": "display_data"
    }
   ],
   "source": [
    "import numpy as np\n",
    "arr = np.arange(12).reshape(4,3)\n",
    "display(arr)\n",
    "# Lấy hàng số 2\n",
    "display(arr[2])\n",
    "# Lấy hàng số 2, tất cả cột\n",
    "display(arr[2, :])\n",
    "# Lấy từ hàng số 2 đến hết, tất cả cột\n",
    "display(arr[2:, :])"
   ]
  },
  {
   "cell_type": "markdown",
   "id": "160b968e-04f9-4925-8ceb-57e9cab8fa8a",
   "metadata": {},
   "source": [
    "## PANDAS"
   ]
  },
  {
   "cell_type": "code",
   "execution_count": 8,
   "id": "5bcb3b6d-7fa0-4e07-ba6f-b21d023332d6",
   "metadata": {},
   "outputs": [
    {
     "data": {
      "text/html": [
       "<div>\n",
       "<style scoped>\n",
       "    .dataframe tbody tr th:only-of-type {\n",
       "        vertical-align: middle;\n",
       "    }\n",
       "\n",
       "    .dataframe tbody tr th {\n",
       "        vertical-align: top;\n",
       "    }\n",
       "\n",
       "    .dataframe thead th {\n",
       "        text-align: right;\n",
       "    }\n",
       "</style>\n",
       "<table border=\"1\" class=\"dataframe\">\n",
       "  <thead>\n",
       "    <tr style=\"text-align: right;\">\n",
       "      <th></th>\n",
       "      <th>a</th>\n",
       "      <th>b</th>\n",
       "      <th>c</th>\n",
       "    </tr>\n",
       "  </thead>\n",
       "  <tbody>\n",
       "    <tr>\n",
       "      <th>1</th>\n",
       "      <td>4</td>\n",
       "      <td>7</td>\n",
       "      <td>10</td>\n",
       "    </tr>\n",
       "    <tr>\n",
       "      <th>2</th>\n",
       "      <td>5</td>\n",
       "      <td>8</td>\n",
       "      <td>11</td>\n",
       "    </tr>\n",
       "    <tr>\n",
       "      <th>3</th>\n",
       "      <td>6</td>\n",
       "      <td>9</td>\n",
       "      <td>12</td>\n",
       "    </tr>\n",
       "  </tbody>\n",
       "</table>\n",
       "</div>"
      ],
      "text/plain": [
       "   a  b   c\n",
       "1  4  7  10\n",
       "2  5  8  11\n",
       "3  6  9  12"
      ]
     },
     "metadata": {},
     "output_type": "display_data"
    },
    {
     "data": {
      "text/plain": [
       "pandas.core.frame.DataFrame"
      ]
     },
     "metadata": {},
     "output_type": "display_data"
    }
   ],
   "source": [
    "from IPython.display import display\n",
    "import pandas as pd\n",
    "a = pd.DataFrame({\n",
    "    \"a\": [4, 5, 6],     # cột a gồm 3 giá trị\n",
    "    \"b\": [7, 8, 9],     # cột b gồm 3 giá trị\n",
    "    \"c\": [10, 11, 12]   # cột c gồm 3 giá trị\n",
    "}, index=[1, 2, 3])    \n",
    "display(a)\n",
    "display (type(a))"
   ]
  },
  {
   "cell_type": "code",
   "execution_count": 9,
   "id": "b35c676a-4d45-4fbe-8f28-844b3346c438",
   "metadata": {},
   "outputs": [
    {
     "data": {
      "text/html": [
       "<div>\n",
       "<style scoped>\n",
       "    .dataframe tbody tr th:only-of-type {\n",
       "        vertical-align: middle;\n",
       "    }\n",
       "\n",
       "    .dataframe tbody tr th {\n",
       "        vertical-align: top;\n",
       "    }\n",
       "\n",
       "    .dataframe thead th {\n",
       "        text-align: right;\n",
       "    }\n",
       "</style>\n",
       "<table border=\"1\" class=\"dataframe\">\n",
       "  <thead>\n",
       "    <tr style=\"text-align: right;\">\n",
       "      <th></th>\n",
       "      <th>a</th>\n",
       "      <th>b</th>\n",
       "      <th>c</th>\n",
       "    </tr>\n",
       "  </thead>\n",
       "  <tbody>\n",
       "    <tr>\n",
       "      <th>0</th>\n",
       "      <td>4</td>\n",
       "      <td>7</td>\n",
       "      <td>10</td>\n",
       "    </tr>\n",
       "    <tr>\n",
       "      <th>1</th>\n",
       "      <td>5</td>\n",
       "      <td>8</td>\n",
       "      <td>11</td>\n",
       "    </tr>\n",
       "    <tr>\n",
       "      <th>2</th>\n",
       "      <td>6</td>\n",
       "      <td>9</td>\n",
       "      <td>12</td>\n",
       "    </tr>\n",
       "  </tbody>\n",
       "</table>\n",
       "</div>"
      ],
      "text/plain": [
       "   a  b   c\n",
       "0  4  7  10\n",
       "1  5  8  11\n",
       "2  6  9  12"
      ]
     },
     "metadata": {},
     "output_type": "display_data"
    },
    {
     "data": {
      "text/plain": [
       "a     5\n",
       "b     8\n",
       "c    11\n",
       "Name: 1, dtype: int64"
      ]
     },
     "metadata": {},
     "output_type": "display_data"
    }
   ],
   "source": [
    "import pandas as pd\n",
    "from IPython.display import display\n",
    "b = pd.DataFrame([\n",
    "    {\"a\":4, 'b':7,'c': 10},\n",
    "    {\"a\":5, 'b':8,'c': 11},\n",
    "    {\"a\":6, 'b':9,'c': 12}\n",
    "])\n",
    "display(b)          # Hiển thị toàn bộ DataFrame\n",
    "display(b.loc[1])   # Lấy hàng có index = 1\n"
   ]
  },
  {
   "cell_type": "code",
   "execution_count": 10,
   "id": "3c1d7998-730a-4d79-8827-ffa31201b617",
   "metadata": {},
   "outputs": [
    {
     "name": "stdout",
     "output_type": "stream",
     "text": [
      "pandas imported\n"
     ]
    },
    {
     "data": {
      "text/plain": [
       "DatetimeIndex(['2018-10-01', '2018-10-02', '2018-10-03', '2018-10-04',\n",
       "               '2018-10-05', '2018-10-06'],\n",
       "              dtype='datetime64[ns]', freq='D')"
      ]
     },
     "execution_count": 10,
     "metadata": {},
     "output_type": "execute_result"
    }
   ],
   "source": [
    "import numpy as np                  # import thư viện NumPy để xử lý số học\n",
    "import pandas as pd                 # import pandas để xử lý dữ liệu dạng bảng\n",
    "import matplotlib.pyplot as plt     # import matplotlib để vẽ biểu đồ\n",
    "print('pandas imported')            # in ra thông báo khi import thành công\n",
    "s = pd.Series([1,3,5,np.nan,6,8])   # tạo một Series (cột dữ liệu 1 chiều)\n",
    "s                                   # hiển thị Series\n",
    "dates = pd.date_range('20181001',   # tạo dãy ngày bắt đầu từ 2018-10-01\n",
    "                      periods=6)    # gồm 6 ngày liên tiếp\n",
    "dates"
   ]
  },
  {
   "cell_type": "code",
   "execution_count": 11,
   "id": "118bdfb7-8186-4efe-91c3-fb1da4945d2c",
   "metadata": {},
   "outputs": [
    {
     "data": {
      "text/html": [
       "<div>\n",
       "<style scoped>\n",
       "    .dataframe tbody tr th:only-of-type {\n",
       "        vertical-align: middle;\n",
       "    }\n",
       "\n",
       "    .dataframe tbody tr th {\n",
       "        vertical-align: top;\n",
       "    }\n",
       "\n",
       "    .dataframe thead th {\n",
       "        text-align: right;\n",
       "    }\n",
       "</style>\n",
       "<table border=\"1\" class=\"dataframe\">\n",
       "  <thead>\n",
       "    <tr style=\"text-align: right;\">\n",
       "      <th></th>\n",
       "      <th>A</th>\n",
       "      <th>B</th>\n",
       "      <th>C</th>\n",
       "      <th>D</th>\n",
       "    </tr>\n",
       "  </thead>\n",
       "  <tbody>\n",
       "    <tr>\n",
       "      <th>2018-10-01</th>\n",
       "      <td>-0.521024</td>\n",
       "      <td>-1.374863</td>\n",
       "      <td>-0.225624</td>\n",
       "      <td>0.843970</td>\n",
       "    </tr>\n",
       "    <tr>\n",
       "      <th>2018-10-02</th>\n",
       "      <td>0.809914</td>\n",
       "      <td>-1.082622</td>\n",
       "      <td>0.065737</td>\n",
       "      <td>0.513795</td>\n",
       "    </tr>\n",
       "    <tr>\n",
       "      <th>2018-10-03</th>\n",
       "      <td>-0.822055</td>\n",
       "      <td>0.192251</td>\n",
       "      <td>-1.124099</td>\n",
       "      <td>-0.562531</td>\n",
       "    </tr>\n",
       "    <tr>\n",
       "      <th>2018-10-04</th>\n",
       "      <td>-2.393186</td>\n",
       "      <td>0.548037</td>\n",
       "      <td>1.893583</td>\n",
       "      <td>-1.346777</td>\n",
       "    </tr>\n",
       "    <tr>\n",
       "      <th>2018-10-05</th>\n",
       "      <td>-0.188002</td>\n",
       "      <td>-1.066581</td>\n",
       "      <td>0.877364</td>\n",
       "      <td>-1.103111</td>\n",
       "    </tr>\n",
       "    <tr>\n",
       "      <th>2018-10-06</th>\n",
       "      <td>0.660863</td>\n",
       "      <td>-2.439716</td>\n",
       "      <td>-0.138722</td>\n",
       "      <td>0.043210</td>\n",
       "    </tr>\n",
       "  </tbody>\n",
       "</table>\n",
       "</div>"
      ],
      "text/plain": [
       "                   A         B         C         D\n",
       "2018-10-01 -0.521024 -1.374863 -0.225624  0.843970\n",
       "2018-10-02  0.809914 -1.082622  0.065737  0.513795\n",
       "2018-10-03 -0.822055  0.192251 -1.124099 -0.562531\n",
       "2018-10-04 -2.393186  0.548037  1.893583 -1.346777\n",
       "2018-10-05 -0.188002 -1.066581  0.877364 -1.103111\n",
       "2018-10-06  0.660863 -2.439716 -0.138722  0.043210"
      ]
     },
     "metadata": {},
     "output_type": "display_data"
    },
    {
     "name": "stdout",
     "output_type": "stream",
     "text": [
      "--------------------------------------------------\n"
     ]
    },
    {
     "data": {
      "text/plain": [
       "A   -0.822055\n",
       "B    0.192251\n",
       "C   -1.124099\n",
       "D   -0.562531\n",
       "Name: 2018-10-03 00:00:00, dtype: float64"
      ]
     },
     "metadata": {},
     "output_type": "display_data"
    },
    {
     "name": "stdout",
     "output_type": "stream",
     "text": [
      "--------------------------------------------------\n"
     ]
    },
    {
     "data": {
      "text/plain": [
       "2018-10-01   -1.374863\n",
       "2018-10-02   -1.082622\n",
       "2018-10-03    0.192251\n",
       "2018-10-04    0.548037\n",
       "2018-10-05   -1.066581\n",
       "2018-10-06   -2.439716\n",
       "Freq: D, Name: B, dtype: float64"
      ]
     },
     "metadata": {},
     "output_type": "display_data"
    }
   ],
   "source": [
    "df = pd.DataFrame(\n",
    "    np.random.randn(6,4),      # tạo ma trận 6x4 số ngẫu nhiên (phân phối chuẩn)\n",
    "    index=dates,               # gán index = dãy ngày '2018-10-01' → '2018-10-06'\n",
    "    columns=list('ABCD')       # đặt tên 4 cột là A, B, C, D\n",
    ")\n",
    "display (df )                         # hiển thị DataFrame\n",
    "print (50* \"-\")\n",
    "display (df.loc['2018-10-03'])\n",
    "print (50* \"-\")\n",
    "display( df['B'])"
   ]
  },
  {
   "cell_type": "code",
   "execution_count": 12,
   "id": "2682b44a-2519-401f-b93c-9821993b6d2d",
   "metadata": {},
   "outputs": [
    {
     "data": {
      "text/html": [
       "<div>\n",
       "<style scoped>\n",
       "    .dataframe tbody tr th:only-of-type {\n",
       "        vertical-align: middle;\n",
       "    }\n",
       "\n",
       "    .dataframe tbody tr th {\n",
       "        vertical-align: top;\n",
       "    }\n",
       "\n",
       "    .dataframe thead th {\n",
       "        text-align: right;\n",
       "    }\n",
       "</style>\n",
       "<table border=\"1\" class=\"dataframe\">\n",
       "  <thead>\n",
       "    <tr style=\"text-align: right;\">\n",
       "      <th></th>\n",
       "      <th>A</th>\n",
       "      <th>B</th>\n",
       "      <th>C</th>\n",
       "      <th>D</th>\n",
       "      <th>E</th>\n",
       "    </tr>\n",
       "  </thead>\n",
       "  <tbody>\n",
       "    <tr>\n",
       "      <th>student1</th>\n",
       "      <td>-0.646864</td>\n",
       "      <td>1.751384</td>\n",
       "      <td>0.034464</td>\n",
       "      <td>0.195303</td>\n",
       "      <td>0.615964</td>\n",
       "    </tr>\n",
       "    <tr>\n",
       "      <th>student2</th>\n",
       "      <td>-0.453596</td>\n",
       "      <td>-0.484531</td>\n",
       "      <td>-0.625603</td>\n",
       "      <td>-0.791472</td>\n",
       "      <td>-0.683944</td>\n",
       "    </tr>\n",
       "    <tr>\n",
       "      <th>student3</th>\n",
       "      <td>1.139607</td>\n",
       "      <td>-0.086874</td>\n",
       "      <td>-1.305638</td>\n",
       "      <td>1.399097</td>\n",
       "      <td>0.514752</td>\n",
       "    </tr>\n",
       "  </tbody>\n",
       "</table>\n",
       "</div>"
      ],
      "text/plain": [
       "                 A         B         C         D         E\n",
       "student1 -0.646864  1.751384  0.034464  0.195303  0.615964\n",
       "student2 -0.453596 -0.484531 -0.625603 -0.791472 -0.683944\n",
       "student3  1.139607 -0.086874 -1.305638  1.399097  0.514752"
      ]
     },
     "execution_count": 12,
     "metadata": {},
     "output_type": "execute_result"
    }
   ],
   "source": [
    "df = pd.DataFrame(np.random.randn(3,5),\n",
    "index=['student1','student2','student3']\n",
    ", columns=list('ABCDE'))\n",
    "df"
   ]
  },
  {
   "cell_type": "code",
   "execution_count": 13,
   "id": "aa91afed-354a-4e6c-8067-4089dbc69777",
   "metadata": {},
   "outputs": [
    {
     "data": {
      "text/html": [
       "<div>\n",
       "<style scoped>\n",
       "    .dataframe tbody tr th:only-of-type {\n",
       "        vertical-align: middle;\n",
       "    }\n",
       "\n",
       "    .dataframe tbody tr th {\n",
       "        vertical-align: top;\n",
       "    }\n",
       "\n",
       "    .dataframe thead th {\n",
       "        text-align: right;\n",
       "    }\n",
       "</style>\n",
       "<table border=\"1\" class=\"dataframe\">\n",
       "  <thead>\n",
       "    <tr style=\"text-align: right;\">\n",
       "      <th></th>\n",
       "      <th>A</th>\n",
       "      <th>B</th>\n",
       "      <th>C</th>\n",
       "      <th>D</th>\n",
       "      <th>E</th>\n",
       "      <th>F</th>\n",
       "    </tr>\n",
       "  </thead>\n",
       "  <tbody>\n",
       "    <tr>\n",
       "      <th>0</th>\n",
       "      <td>1.0</td>\n",
       "      <td>2018-10-01</td>\n",
       "      <td>2.5</td>\n",
       "      <td>3</td>\n",
       "      <td>test</td>\n",
       "      <td>foo</td>\n",
       "    </tr>\n",
       "    <tr>\n",
       "      <th>1</th>\n",
       "      <td>1.0</td>\n",
       "      <td>2018-10-01</td>\n",
       "      <td>2.5</td>\n",
       "      <td>3</td>\n",
       "      <td>train</td>\n",
       "      <td>foo</td>\n",
       "    </tr>\n",
       "    <tr>\n",
       "      <th>2</th>\n",
       "      <td>1.0</td>\n",
       "      <td>2018-10-01</td>\n",
       "      <td>2.5</td>\n",
       "      <td>3</td>\n",
       "      <td>test</td>\n",
       "      <td>foo</td>\n",
       "    </tr>\n",
       "    <tr>\n",
       "      <th>3</th>\n",
       "      <td>1.0</td>\n",
       "      <td>2018-10-01</td>\n",
       "      <td>2.5</td>\n",
       "      <td>3</td>\n",
       "      <td>train</td>\n",
       "      <td>foo</td>\n",
       "    </tr>\n",
       "  </tbody>\n",
       "</table>\n",
       "</div>"
      ],
      "text/plain": [
       "     A          B    C  D      E    F\n",
       "0  1.0 2018-10-01  2.5  3   test  foo\n",
       "1  1.0 2018-10-01  2.5  3  train  foo\n",
       "2  1.0 2018-10-01  2.5  3   test  foo\n",
       "3  1.0 2018-10-01  2.5  3  train  foo"
      ]
     },
     "metadata": {},
     "output_type": "display_data"
    },
    {
     "name": "stdout",
     "output_type": "stream",
     "text": [
      "--------------------------------------------------\n"
     ]
    },
    {
     "data": {
      "text/plain": [
       "A          float64\n",
       "B    datetime64[s]\n",
       "C          float32\n",
       "D            int32\n",
       "E         category\n",
       "F           object\n",
       "dtype: object"
      ]
     },
     "metadata": {},
     "output_type": "display_data"
    }
   ],
   "source": [
    "df2 = pd.DataFrame({\n",
    "    'A' : 1.,                                      # Cột A: giá trị 1.0 (kiểu float) cho tất cả các dòng\n",
    "    'B' : pd.Timestamp('20181001'),                # Cột B: ngày (timestamp) cố định \"2018-10-01\"\n",
    "    'C' : pd.Series(2.5, index=list(range(4)),dtype='float32'),     # Cột C: series gồm 4 giá trị 2.5 (float32)               \n",
    "    'D' : np.array([3] * 4, dtype='int32'),        # Cột D: mảng numpy gồm 4 số nguyên 3\n",
    "    'E' : pd.Categorical([\"test\",\"train\",\"test\",\"train\"]), # Cột E: dữ liệu dạng phân loại (categorical)\n",
    "    'F' : 'foo'                                    # Cột F: chuỗi \"foo\" lặp lại cho tất cả các dòng\n",
    "})\n",
    "\n",
    "display (df2)\n",
    "print (50* \"-\")\n",
    "display (df2.dtypes)"
   ]
  },
  {
   "cell_type": "code",
   "execution_count": 14,
   "id": "b275d196-1e6e-4aae-990d-50da49792590",
   "metadata": {},
   "outputs": [
    {
     "data": {
      "text/html": [
       "<div>\n",
       "<style scoped>\n",
       "    .dataframe tbody tr th:only-of-type {\n",
       "        vertical-align: middle;\n",
       "    }\n",
       "\n",
       "    .dataframe tbody tr th {\n",
       "        vertical-align: top;\n",
       "    }\n",
       "\n",
       "    .dataframe thead th {\n",
       "        text-align: right;\n",
       "    }\n",
       "</style>\n",
       "<table border=\"1\" class=\"dataframe\">\n",
       "  <thead>\n",
       "    <tr style=\"text-align: right;\">\n",
       "      <th></th>\n",
       "      <th>Date</th>\n",
       "      <th>Description</th>\n",
       "      <th>Amount</th>\n",
       "    </tr>\n",
       "  </thead>\n",
       "  <tbody>\n",
       "  </tbody>\n",
       "</table>\n",
       "</div>"
      ],
      "text/plain": [
       "Empty DataFrame\n",
       "Columns: [Date, Description, Amount]\n",
       "Index: []"
      ]
     },
     "metadata": {},
     "output_type": "display_data"
    },
    {
     "data": {
      "text/html": [
       "<div>\n",
       "<style scoped>\n",
       "    .dataframe tbody tr th:only-of-type {\n",
       "        vertical-align: middle;\n",
       "    }\n",
       "\n",
       "    .dataframe tbody tr th {\n",
       "        vertical-align: top;\n",
       "    }\n",
       "\n",
       "    .dataframe thead th {\n",
       "        text-align: right;\n",
       "    }\n",
       "</style>\n",
       "<table border=\"1\" class=\"dataframe\">\n",
       "  <thead>\n",
       "    <tr style=\"text-align: right;\">\n",
       "      <th></th>\n",
       "      <th>Date</th>\n",
       "      <th>Description</th>\n",
       "      <th>Amount</th>\n",
       "    </tr>\n",
       "  </thead>\n",
       "  <tbody>\n",
       "    <tr>\n",
       "      <th>0</th>\n",
       "      <td>2023-11-01</td>\n",
       "      <td>Income</td>\n",
       "      <td>1000</td>\n",
       "    </tr>\n",
       "    <tr>\n",
       "      <th>1</th>\n",
       "      <td>2023-11-02</td>\n",
       "      <td>Groceries</td>\n",
       "      <td>-200</td>\n",
       "    </tr>\n",
       "    <tr>\n",
       "      <th>2</th>\n",
       "      <td>2023-11-03</td>\n",
       "      <td>Utilities</td>\n",
       "      <td>-100</td>\n",
       "    </tr>\n",
       "  </tbody>\n",
       "</table>\n",
       "</div>"
      ],
      "text/plain": [
       "         Date Description Amount\n",
       "0  2023-11-01      Income   1000\n",
       "1  2023-11-02   Groceries   -200\n",
       "2  2023-11-03   Utilities   -100"
      ]
     },
     "metadata": {},
     "output_type": "display_data"
    },
    {
     "name": "stdout",
     "output_type": "stream",
     "text": [
      "Current Balance: 700\n"
     ]
    }
   ],
   "source": [
    "import pandas as pd\n",
    "# Tạo DataFrame rỗng để lưu giao dịch\n",
    "columns = ['Date', 'Description', 'Amount']\n",
    "ledger = pd.DataFrame(columns=columns)\n",
    "display (ledger)\n",
    "# Hàm thêm giao dịch mới\n",
    "def add_transaction(date, description, amount):\n",
    "    global ledger\n",
    "    new_transaction = pd.DataFrame([[date, description, amount]], columns=columns)\n",
    "    ledger = pd.concat([ledger, new_transaction], ignore_index=True)\n",
    "# Hàm xem toàn bộ sổ giao dịch\n",
    "def view_ledger():\n",
    "    display (ledger)\n",
    "# Hàm tính số dư hiện tại\n",
    "def get_balance():\n",
    "    return ledger['Amount'].sum()\n",
    "# -------------------------------\n",
    "# Thêm một số giao dịch mẫu\n",
    "add_transaction('2023-11-01', 'Income', 1000)\n",
    "add_transaction('2023-11-02', 'Groceries', -200)\n",
    "add_transaction('2023-11-03', 'Utilities', -100)\n",
    "# Xem sổ giao dịch\n",
    "view_ledger()\n",
    "# Kiểm tra số dư\n",
    "print (\"Current Balance:\", get_balance())\n"
   ]
  },
  {
   "cell_type": "markdown",
   "id": "6a69094f-c31b-4810-aad8-b0013d99e9ac",
   "metadata": {},
   "source": [
    "## Iris Classfication"
   ]
  },
  {
   "cell_type": "code",
   "execution_count": 15,
   "id": "c5d87882-593b-42f9-a05b-96252020f512",
   "metadata": {},
   "outputs": [
    {
     "name": "stdout",
     "output_type": "stream",
     "text": [
      "--2025-08-23 09:00:39--  https://archive.ics.uci.edu/ml/machine-learning-databases/iris/iris.data\n",
      "Resolving archive.ics.uci.edu (archive.ics.uci.edu)... 128.195.10.252\n",
      "Connecting to archive.ics.uci.edu (archive.ics.uci.edu)|128.195.10.252|:443... connected.\n",
      "HTTP request sent, awaiting response... 200 OK\n",
      "Length: unspecified\n",
      "Saving to: ‘iris.data.1’\n",
      "\n",
      "iris.data.1             [ <=>                ]   4.44K  --.-KB/s    in 0s      \n",
      "\n",
      "2025-08-23 09:00:40 (63.8 MB/s) - ‘iris.data.1’ saved [4551]\n",
      "\n"
     ]
    }
   ],
   "source": [
    "!wget https://archive.ics.uci.edu/ml/machine-learning-databases/iris/iris.data"
   ]
  },
  {
   "cell_type": "code",
   "execution_count": 16,
   "id": "d769fc6c-2708-4a1f-bd68-14093e7145f6",
   "metadata": {},
   "outputs": [
    {
     "name": "stdout",
     "output_type": "stream",
     "text": [
      "5.1,3.5,1.4,0.2,Iris-setosa\n",
      "4.9,3.0,1.4,0.2,Iris-setosa\n",
      "4.7,3.2,1.3,0.2,Iris-setosa\n",
      "4.6,3.1,1.5,0.2,Iris-setosa\n",
      "5.0,3.6,1.4,0.2,Iris-setosa\n",
      "5.4,3.9,1.7,0.4,Iris-setosa\n",
      "4.6,3.4,1.4,0.3,Iris-setosa\n",
      "5.0,3.4,1.5,0.2,Iris-setosa\n",
      "4.4,2.9,1.4,0.2,Iris-setosa\n",
      "4.9,3.1,1.5,0.1,Iris-setosa\n",
      "5.4,3.7,1.5,0.2,Iris-setosa\n",
      "4.8,3.4,1.6,0.2,Iris-setosa\n",
      "4.8,3.0,1.4,0.1,Iris-setosa\n",
      "4.3,3.0,1.1,0.1,Iris-setosa\n",
      "5.8,4.0,1.2,0.2,Iris-setosa\n",
      "5.7,4.4,1.5,0.4,Iris-setosa\n",
      "5.4,3.9,1.3,0.4,Iris-setosa\n",
      "5.1,3.5,1.4,0.3,Iris-setosa\n",
      "5.7,3.8,1.7,0.3,Iris-setosa\n",
      "5.1,3.8,1.5,0.3,Iris-setosa\n",
      "5.4,3.4,1.7,0.2,Iris-setosa\n",
      "5.1,3.7,1.5,0.4,Iris-setosa\n",
      "4.6,3.6,1.0,0.2,Iris-setosa\n",
      "5.1,3.3,1.7,0.5,Iris-setosa\n",
      "4.8,3.4,1.9,0.2,Iris-setosa\n",
      "5.0,3.0,1.6,0.2,Iris-setosa\n",
      "5.0,3.4,1.6,0.4,Iris-setosa\n",
      "5.2,3.5,1.5,0.2,Iris-setosa\n",
      "5.2,3.4,1.4,0.2,Iris-setosa\n",
      "4.7,3.2,1.6,0.2,Iris-setosa\n",
      "4.8,3.1,1.6,0.2,Iris-setosa\n",
      "5.4,3.4,1.5,0.4,Iris-setosa\n",
      "5.2,4.1,1.5,0.1,Iris-setosa\n",
      "5.5,4.2,1.4,0.2,Iris-setosa\n",
      "4.9,3.1,1.5,0.1,Iris-setosa\n",
      "5.0,3.2,1.2,0.2,Iris-setosa\n",
      "5.5,3.5,1.3,0.2,Iris-setosa\n",
      "4.9,3.1,1.5,0.1,Iris-setosa\n",
      "4.4,3.0,1.3,0.2,Iris-setosa\n",
      "5.1,3.4,1.5,0.2,Iris-setosa\n",
      "5.0,3.5,1.3,0.3,Iris-setosa\n",
      "4.5,2.3,1.3,0.3,Iris-setosa\n",
      "4.4,3.2,1.3,0.2,Iris-setosa\n",
      "5.0,3.5,1.6,0.6,Iris-setosa\n",
      "5.1,3.8,1.9,0.4,Iris-setosa\n",
      "4.8,3.0,1.4,0.3,Iris-setosa\n",
      "5.1,3.8,1.6,0.2,Iris-setosa\n",
      "4.6,3.2,1.4,0.2,Iris-setosa\n",
      "5.3,3.7,1.5,0.2,Iris-setosa\n",
      "5.0,3.3,1.4,0.2,Iris-setosa\n",
      "7.0,3.2,4.7,1.4,Iris-versicolor\n",
      "6.4,3.2,4.5,1.5,Iris-versicolor\n",
      "6.9,3.1,4.9,1.5,Iris-versicolor\n",
      "5.5,2.3,4.0,1.3,Iris-versicolor\n",
      "6.5,2.8,4.6,1.5,Iris-versicolor\n",
      "5.7,2.8,4.5,1.3,Iris-versicolor\n",
      "6.3,3.3,4.7,1.6,Iris-versicolor\n",
      "4.9,2.4,3.3,1.0,Iris-versicolor\n",
      "6.6,2.9,4.6,1.3,Iris-versicolor\n",
      "5.2,2.7,3.9,1.4,Iris-versicolor\n",
      "5.0,2.0,3.5,1.0,Iris-versicolor\n",
      "5.9,3.0,4.2,1.5,Iris-versicolor\n",
      "6.0,2.2,4.0,1.0,Iris-versicolor\n",
      "6.1,2.9,4.7,1.4,Iris-versicolor\n",
      "5.6,2.9,3.6,1.3,Iris-versicolor\n",
      "6.7,3.1,4.4,1.4,Iris-versicolor\n",
      "5.6,3.0,4.5,1.5,Iris-versicolor\n",
      "5.8,2.7,4.1,1.0,Iris-versicolor\n",
      "6.2,2.2,4.5,1.5,Iris-versicolor\n",
      "5.6,2.5,3.9,1.1,Iris-versicolor\n",
      "5.9,3.2,4.8,1.8,Iris-versicolor\n",
      "6.1,2.8,4.0,1.3,Iris-versicolor\n",
      "6.3,2.5,4.9,1.5,Iris-versicolor\n",
      "6.1,2.8,4.7,1.2,Iris-versicolor\n",
      "6.4,2.9,4.3,1.3,Iris-versicolor\n",
      "6.6,3.0,4.4,1.4,Iris-versicolor\n",
      "6.8,2.8,4.8,1.4,Iris-versicolor\n",
      "6.7,3.0,5.0,1.7,Iris-versicolor\n",
      "6.0,2.9,4.5,1.5,Iris-versicolor\n",
      "5.7,2.6,3.5,1.0,Iris-versicolor\n",
      "5.5,2.4,3.8,1.1,Iris-versicolor\n",
      "5.5,2.4,3.7,1.0,Iris-versicolor\n",
      "5.8,2.7,3.9,1.2,Iris-versicolor\n",
      "6.0,2.7,5.1,1.6,Iris-versicolor\n",
      "5.4,3.0,4.5,1.5,Iris-versicolor\n",
      "6.0,3.4,4.5,1.6,Iris-versicolor\n",
      "6.7,3.1,4.7,1.5,Iris-versicolor\n",
      "6.3,2.3,4.4,1.3,Iris-versicolor\n",
      "5.6,3.0,4.1,1.3,Iris-versicolor\n",
      "5.5,2.5,4.0,1.3,Iris-versicolor\n",
      "5.5,2.6,4.4,1.2,Iris-versicolor\n",
      "6.1,3.0,4.6,1.4,Iris-versicolor\n",
      "5.8,2.6,4.0,1.2,Iris-versicolor\n",
      "5.0,2.3,3.3,1.0,Iris-versicolor\n",
      "5.6,2.7,4.2,1.3,Iris-versicolor\n",
      "5.7,3.0,4.2,1.2,Iris-versicolor\n",
      "5.7,2.9,4.2,1.3,Iris-versicolor\n",
      "6.2,2.9,4.3,1.3,Iris-versicolor\n",
      "5.1,2.5,3.0,1.1,Iris-versicolor\n",
      "5.7,2.8,4.1,1.3,Iris-versicolor\n",
      "6.3,3.3,6.0,2.5,Iris-virginica\n",
      "5.8,2.7,5.1,1.9,Iris-virginica\n",
      "7.1,3.0,5.9,2.1,Iris-virginica\n",
      "6.3,2.9,5.6,1.8,Iris-virginica\n",
      "6.5,3.0,5.8,2.2,Iris-virginica\n",
      "7.6,3.0,6.6,2.1,Iris-virginica\n",
      "4.9,2.5,4.5,1.7,Iris-virginica\n",
      "7.3,2.9,6.3,1.8,Iris-virginica\n",
      "6.7,2.5,5.8,1.8,Iris-virginica\n",
      "7.2,3.6,6.1,2.5,Iris-virginica\n",
      "6.5,3.2,5.1,2.0,Iris-virginica\n",
      "6.4,2.7,5.3,1.9,Iris-virginica\n",
      "6.8,3.0,5.5,2.1,Iris-virginica\n",
      "5.7,2.5,5.0,2.0,Iris-virginica\n",
      "5.8,2.8,5.1,2.4,Iris-virginica\n",
      "6.4,3.2,5.3,2.3,Iris-virginica\n",
      "6.5,3.0,5.5,1.8,Iris-virginica\n",
      "7.7,3.8,6.7,2.2,Iris-virginica\n",
      "7.7,2.6,6.9,2.3,Iris-virginica\n",
      "6.0,2.2,5.0,1.5,Iris-virginica\n",
      "6.9,3.2,5.7,2.3,Iris-virginica\n",
      "5.6,2.8,4.9,2.0,Iris-virginica\n",
      "7.7,2.8,6.7,2.0,Iris-virginica\n",
      "6.3,2.7,4.9,1.8,Iris-virginica\n",
      "6.7,3.3,5.7,2.1,Iris-virginica\n",
      "7.2,3.2,6.0,1.8,Iris-virginica\n",
      "6.2,2.8,4.8,1.8,Iris-virginica\n",
      "6.1,3.0,4.9,1.8,Iris-virginica\n",
      "6.4,2.8,5.6,2.1,Iris-virginica\n",
      "7.2,3.0,5.8,1.6,Iris-virginica\n",
      "7.4,2.8,6.1,1.9,Iris-virginica\n",
      "7.9,3.8,6.4,2.0,Iris-virginica\n",
      "6.4,2.8,5.6,2.2,Iris-virginica\n",
      "6.3,2.8,5.1,1.5,Iris-virginica\n",
      "6.1,2.6,5.6,1.4,Iris-virginica\n",
      "7.7,3.0,6.1,2.3,Iris-virginica\n",
      "6.3,3.4,5.6,2.4,Iris-virginica\n",
      "6.4,3.1,5.5,1.8,Iris-virginica\n",
      "6.0,3.0,4.8,1.8,Iris-virginica\n",
      "6.9,3.1,5.4,2.1,Iris-virginica\n",
      "6.7,3.1,5.6,2.4,Iris-virginica\n",
      "6.9,3.1,5.1,2.3,Iris-virginica\n",
      "5.8,2.7,5.1,1.9,Iris-virginica\n",
      "6.8,3.2,5.9,2.3,Iris-virginica\n",
      "6.7,3.3,5.7,2.5,Iris-virginica\n",
      "6.7,3.0,5.2,2.3,Iris-virginica\n",
      "6.3,2.5,5.0,1.9,Iris-virginica\n",
      "6.5,3.0,5.2,2.0,Iris-virginica\n",
      "6.2,3.4,5.4,2.3,Iris-virginica\n",
      "5.9,3.0,5.1,1.8,Iris-virginica\n",
      "\n"
     ]
    }
   ],
   "source": [
    "!cat iris.data    # in toàn bộ nội dung file"
   ]
  },
  {
   "cell_type": "code",
   "execution_count": 17,
   "id": "852b5c56-2f1d-426d-b5cb-4898385e93c6",
   "metadata": {},
   "outputs": [
    {
     "name": "stdout",
     "output_type": "stream",
     "text": [
      "   sepal-length  sepal-width  petal-length  petal-width        class\n",
      "0           5.1          3.5           1.4          0.2  Iris-setosa\n",
      "1           4.9          3.0           1.4          0.2  Iris-setosa\n",
      "2           4.7          3.2           1.3          0.2  Iris-setosa\n",
      "3           4.6          3.1           1.5          0.2  Iris-setosa\n",
      "4           5.0          3.6           1.4          0.2  Iris-setosa\n",
      "5           5.4          3.9           1.7          0.4  Iris-setosa\n",
      "6           4.6          3.4           1.4          0.3  Iris-setosa\n",
      "7           5.0          3.4           1.5          0.2  Iris-setosa\n",
      "8           4.4          2.9           1.4          0.2  Iris-setosa\n",
      "9           4.9          3.1           1.5          0.1  Iris-setosa\n",
      "     sepal-length  sepal-width  petal-length  petal-width           class\n",
      "140           6.7          3.1           5.6          2.4  Iris-virginica\n",
      "141           6.9          3.1           5.1          2.3  Iris-virginica\n",
      "142           5.8          2.7           5.1          1.9  Iris-virginica\n",
      "143           6.8          3.2           5.9          2.3  Iris-virginica\n",
      "144           6.7          3.3           5.7          2.5  Iris-virginica\n",
      "145           6.7          3.0           5.2          2.3  Iris-virginica\n",
      "146           6.3          2.5           5.0          1.9  Iris-virginica\n",
      "147           6.5          3.0           5.2          2.0  Iris-virginica\n",
      "148           6.2          3.4           5.4          2.3  Iris-virginica\n",
      "149           5.9          3.0           5.1          1.8  Iris-virginica\n"
     ]
    }
   ],
   "source": [
    "import pandas as pd\n",
    "url = \"https://archive.ics.uci.edu/ml/machine-learning-databases/iris/iris.data\"\n",
    "names = ['sepal-length', 'sepal-width', 'petal-length', 'petal-width', 'class']\n",
    "df = pd.read_csv(url, names=names)\n",
    "print(df.head(10))\n",
    "print(df.tail(10))"
   ]
  },
  {
   "cell_type": "code",
   "execution_count": 18,
   "id": "07a1978f-ebbc-43ed-b2e8-af2147f11464",
   "metadata": {},
   "outputs": [],
   "source": [
    "import numpy as np\n",
    "import pandas as pd\n",
    "%matplotlib inline\n",
    "import matplotlib.pyplot as plt\n",
    "import seaborn as sns\n",
    "from pandas.plotting import scatter_matrix"
   ]
  },
  {
   "cell_type": "code",
   "execution_count": 19,
   "id": "9aa46da5-b95d-4a78-87cd-8c3bcd90674e",
   "metadata": {},
   "outputs": [
    {
     "data": {
      "text/html": [
       "<div>\n",
       "<style scoped>\n",
       "    .dataframe tbody tr th:only-of-type {\n",
       "        vertical-align: middle;\n",
       "    }\n",
       "\n",
       "    .dataframe tbody tr th {\n",
       "        vertical-align: top;\n",
       "    }\n",
       "\n",
       "    .dataframe thead th {\n",
       "        text-align: right;\n",
       "    }\n",
       "</style>\n",
       "<table border=\"1\" class=\"dataframe\">\n",
       "  <thead>\n",
       "    <tr style=\"text-align: right;\">\n",
       "      <th></th>\n",
       "      <th>sepal-length</th>\n",
       "      <th>sepal-width</th>\n",
       "      <th>petal-length</th>\n",
       "      <th>petal-width</th>\n",
       "    </tr>\n",
       "  </thead>\n",
       "  <tbody>\n",
       "    <tr>\n",
       "      <th>count</th>\n",
       "      <td>150.000000</td>\n",
       "      <td>150.000000</td>\n",
       "      <td>150.000000</td>\n",
       "      <td>150.000000</td>\n",
       "    </tr>\n",
       "    <tr>\n",
       "      <th>mean</th>\n",
       "      <td>5.843333</td>\n",
       "      <td>3.054000</td>\n",
       "      <td>3.758667</td>\n",
       "      <td>1.198667</td>\n",
       "    </tr>\n",
       "    <tr>\n",
       "      <th>std</th>\n",
       "      <td>0.828066</td>\n",
       "      <td>0.433594</td>\n",
       "      <td>1.764420</td>\n",
       "      <td>0.763161</td>\n",
       "    </tr>\n",
       "    <tr>\n",
       "      <th>min</th>\n",
       "      <td>4.300000</td>\n",
       "      <td>2.000000</td>\n",
       "      <td>1.000000</td>\n",
       "      <td>0.100000</td>\n",
       "    </tr>\n",
       "    <tr>\n",
       "      <th>25%</th>\n",
       "      <td>5.100000</td>\n",
       "      <td>2.800000</td>\n",
       "      <td>1.600000</td>\n",
       "      <td>0.300000</td>\n",
       "    </tr>\n",
       "    <tr>\n",
       "      <th>50%</th>\n",
       "      <td>5.800000</td>\n",
       "      <td>3.000000</td>\n",
       "      <td>4.350000</td>\n",
       "      <td>1.300000</td>\n",
       "    </tr>\n",
       "    <tr>\n",
       "      <th>75%</th>\n",
       "      <td>6.400000</td>\n",
       "      <td>3.300000</td>\n",
       "      <td>5.100000</td>\n",
       "      <td>1.800000</td>\n",
       "    </tr>\n",
       "    <tr>\n",
       "      <th>max</th>\n",
       "      <td>7.900000</td>\n",
       "      <td>4.400000</td>\n",
       "      <td>6.900000</td>\n",
       "      <td>2.500000</td>\n",
       "    </tr>\n",
       "  </tbody>\n",
       "</table>\n",
       "</div>"
      ],
      "text/plain": [
       "       sepal-length  sepal-width  petal-length  petal-width\n",
       "count    150.000000   150.000000    150.000000   150.000000\n",
       "mean       5.843333     3.054000      3.758667     1.198667\n",
       "std        0.828066     0.433594      1.764420     0.763161\n",
       "min        4.300000     2.000000      1.000000     0.100000\n",
       "25%        5.100000     2.800000      1.600000     0.300000\n",
       "50%        5.800000     3.000000      4.350000     1.300000\n",
       "75%        6.400000     3.300000      5.100000     1.800000\n",
       "max        7.900000     4.400000      6.900000     2.500000"
      ]
     },
     "metadata": {},
     "output_type": "display_data"
    }
   ],
   "source": [
    "display (df.describe())"
   ]
  },
  {
   "cell_type": "code",
   "execution_count": 20,
   "id": "5086ec44-820e-4ab7-a73e-6b7ff3d249bf",
   "metadata": {},
   "outputs": [
    {
     "name": "stdout",
     "output_type": "stream",
     "text": [
      "<class 'pandas.core.frame.DataFrame'>\n",
      "RangeIndex: 150 entries, 0 to 149\n",
      "Data columns (total 5 columns):\n",
      " #   Column        Non-Null Count  Dtype  \n",
      "---  ------        --------------  -----  \n",
      " 0   sepal-length  150 non-null    float64\n",
      " 1   sepal-width   150 non-null    float64\n",
      " 2   petal-length  150 non-null    float64\n",
      " 3   petal-width   150 non-null    float64\n",
      " 4   class         150 non-null    object \n",
      "dtypes: float64(4), object(1)\n",
      "memory usage: 6.0+ KB\n",
      "None\n",
      "--------------------------------------------------\n",
      "(150, 5)\n",
      "--------------------------------------------------\n",
      "class\n",
      "Iris-setosa        50\n",
      "Iris-versicolor    50\n",
      "Iris-virginica     50\n",
      "dtype: int64\n"
     ]
    }
   ],
   "source": [
    "print(df.info())\n",
    "print (50* \"-\")\n",
    "print(df.shape)\n",
    "print (50* \"-\")\n",
    "print(df.groupby('class').size())"
   ]
  },
  {
   "cell_type": "code",
   "execution_count": 33,
   "id": "d0af297e-45b7-43d3-a82c-32eded7f8c91",
   "metadata": {},
   "outputs": [
    {
     "data": {
      "text/plain": [
       "<bound method DataFrame.corr of      sepal-length  sepal-width  petal-length  petal-width           class\n",
       "0             5.1          3.5           1.4          0.2     Iris-setosa\n",
       "1             4.9          3.0           1.4          0.2     Iris-setosa\n",
       "2             4.7          3.2           1.3          0.2     Iris-setosa\n",
       "3             4.6          3.1           1.5          0.2     Iris-setosa\n",
       "4             5.0          3.6           1.4          0.2     Iris-setosa\n",
       "..            ...          ...           ...          ...             ...\n",
       "145           6.7          3.0           5.2          2.3  Iris-virginica\n",
       "146           6.3          2.5           5.0          1.9  Iris-virginica\n",
       "147           6.5          3.0           5.2          2.0  Iris-virginica\n",
       "148           6.2          3.4           5.4          2.3  Iris-virginica\n",
       "149           5.9          3.0           5.1          1.8  Iris-virginica\n",
       "\n",
       "[150 rows x 5 columns]>"
      ]
     },
     "execution_count": 33,
     "metadata": {},
     "output_type": "execute_result"
    }
   ],
   "source": [
    "df.corr"
   ]
  },
  {
   "cell_type": "code",
   "execution_count": 32,
   "id": "a2abfc9f-05e8-4b8e-a67c-e068df93adc5",
   "metadata": {},
   "outputs": [
    {
     "data": {
      "image/png": "[encoded data removed]",
      "text/plain": [
       "<Figure size 1000x800 with 4 Axes>"
      ]
     },
     "metadata": {},
     "output_type": "display_data"
    }
   ],
   "source": [
    "plt.rcParams[\"figure.figsize\"] = (10,8)\n",
    "df.plot(kind='box', subplots=True, layout=(2,2), sharex=False, sharey=False)\n",
    "plt.show()"
   ]
  },
  {
   "cell_type": "code",
   "execution_count": null,
   "id": "3efb9c54-7dca-45ad-a467-ddb13308145e",
   "metadata": {},
   "outputs": [],
   "source": [
    "df.hist()\n",
    "plt.show()"
   ]
  },
  {
   "cell_type": "code",
   "execution_count": null,
   "id": "b366955f-b578-4b97-b631-2d974980ca19",
   "metadata": {},
   "outputs": [],
   "source": [
    "scatter_matrix(df)\n",
    "plt.show()"
   ]
  },
  {
   "cell_type": "code",
   "execution_count": null,
   "id": "e37fda5e-2ef5-4fbf-a9d9-3494c32a9907",
   "metadata": {},
   "outputs": [],
   "source": [
    "sns.pairplot(df, hue=\"class\", size=2)"
   ]
  },
  {
   "cell_type": "code",
   "execution_count": null,
   "id": "e0cd78b5-d81e-4126-95d8-9860706465bb",
   "metadata": {},
   "outputs": [],
   "source": []
  }
 ],
 "metadata": {
  "kernelspec": {
   "display_name": "Python 3 (ipykernel)",
   "language": "python",
   "name": "python3"
  },
  "language_info": {
   "codemirror_mode": {
    "name": "ipython",
    "version": 3
   },
   "file_extension": ".py",
   "mimetype": "text/x-python",
   "name": "python",
   "nbconvert_exporter": "python",
   "pygments_lexer": "ipython3",
   "version": "3.12.1"
  }
 },
 "nbformat": 4,
 "nbformat_minor": 5
}
